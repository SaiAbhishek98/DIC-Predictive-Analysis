{
 "cells": [
  {
   "cell_type": "code",
   "execution_count": null,
   "metadata": {},
   "outputs": [],
   "source": [
    "# -*- coding: utf-8 -*-\n",
    "\"\"\"\n",
    "Predicitve_Analytics.py\n",
    "\"\"\"\n",
    "import pandas as pd\n",
    "import numpy as np\n",
    "from sklearn.model_selection import train_test_split\n",
    "from scipy import stats\n",
    "import time\n",
    "\n",
    "from sklearn.preprocessing import MinMaxScaler\n",
    "from sklearn.metrics import accuracy_score"
   ]
  },
  {
   "cell_type": "code",
   "execution_count": null,
   "metadata": {},
   "outputs": [],
   "source": [
    "df = import_data('data.csv')\n",
    "\n",
    "input_data = df.values\n",
    "\n",
    "X = input_data[:, :input_data.shape[1]-1]\n",
    "y = input_data[:, input_data.shape[1]-1]\n",
    "\n",
    "\n",
    "X_train, X_test, y_train, y_test = train_test_split(X, y, test_size = 0.2)\n",
    "\n",
    "scalar = MinMaxScaler()\n",
    "\n",
    "scalar.fit(X_train)\n",
    "scalar.transform(X_train)\n",
    "scalar.fit(X_test)\n",
    "scalar.transform(X_test)\n"
   ]
  },
  {
   "cell_type": "code",
   "execution_count": null,
   "metadata": {},
   "outputs": [],
   "source": [
    "k = 10"
   ]
  },
  {
   "cell_type": "code",
   "execution_count": null,
   "metadata": {},
   "outputs": [],
   "source": [
    "def find_center(cluster_centers, row, k):\n",
    "    \n",
    "    rows = np.tile(row, (k,1))\n",
    "    \n",
    "    diff_vector = np.sum(np.absolute(cluster_centers - rows), axis = 1)\n",
    "    \n",
    "    return np.argmin(diff_vector)"
   ]
  },
  {
   "cell_type": "code",
   "execution_count": null,
   "metadata": {},
   "outputs": [],
   "source": [
    "def Accuracy(y_true,y_pred):\n",
    "    \"\"\"\n",
    "    :type y_true: numpy.ndarray\n",
    "    :type y_pred: numpy.ndarray\n",
    "    :rtype: float\n",
    "    \n",
    "    \"\"\"\n",
    "    diff = y_true - y_pred\n",
    "    t = np.where(diff == 0)\n",
    "    return t[0].shape[0]/y_true.shape[0]\n",
    "#     return accuracy_score(y_true=y_true, y_pred=y_pred)"
   ]
  },
  {
   "cell_type": "code",
   "execution_count": null,
   "metadata": {},
   "outputs": [],
   "source": [
    "def Recall(y_true,y_pred):\n",
    "     \"\"\"\n",
    "    :type y_true: numpy.ndarray\n",
    "    :type y_pred: numpy.ndarray\n",
    "    :rtype: float\n",
    "    \"\"\"\n",
    "    labels = [1,2,3,4,5,6,7,8,9,10,11]\n",
    "    macro = []\n",
    "    for label in labels:\n",
    "        actual = y_true\n",
    "        pred = y_pred\n",
    "        \n",
    "        act_diff = actual - label\n",
    "        pred_diff = pred - label\n",
    "        diff = np.where(act_diff == pred_diff)\n",
    "        denominator = np.where(y_true == label)\n",
    "        \n",
    "        macro.append(diff[0].shape[0]/denominator[0].shape[0])\n",
    "    \n",
    "    return np.mean(macro)\n",
    "        "
   ]
  },
  {
   "cell_type": "code",
   "execution_count": null,
   "metadata": {},
   "outputs": [],
   "source": [
    "def Precision(y_true,y_pred):\n",
    "    \"\"\"\n",
    "    :type y_true: numpy.ndarray\n",
    "    :type y_pred: numpy.ndarray\n",
    "    :rtype: float\n",
    "    \"\"\"\n",
    "    labels = [1,2,3,4,5,6,7,8,9,10,11]\n",
    "    macro = []\n",
    "    for label in labels:\n",
    "        actual = y_true\n",
    "        pred = y_pred\n",
    "        \n",
    "        act_diff = actual - label\n",
    "        pred_diff = pred - label\n",
    "        diff = np.where(act_diff == pred_diff)\n",
    "        denominator = np.where(y_pred == label)\n",
    "        \n",
    "        macro.append(diff[0].shape[0]/denominator[0].shape[0])\n",
    "    \n",
    "    return np.mean(macro)\n",
    "        \n",
    "    "
   ]
  },
  {
   "cell_type": "code",
   "execution_count": null,
   "metadata": {},
   "outputs": [],
   "source": [
    "def WCSS(Clusters):\n",
    "    \"\"\"\n",
    "    :Clusters List[numpy.ndarray]\n",
    "    \"\"\"\n",
    "    wcss = 0\n",
    "    # Get a cluster\n",
    "    for cluster in Clusters:\n",
    "        \n",
    "        cluster_center = np.mean(cluster, axis = 0)\n",
    "        \n",
    "        # Compute all distances from cluster center.\n",
    "        center_vector = np.tile(cluster_center, (cluster.shape[0], 1))\n",
    "        \n",
    "        wcss = wcss + np.sum(np.absolute(center_vector - cluster))\n",
    "    \n",
    "    return wcss\n",
    "\n",
    "    "
   ]
  },
  {
   "cell_type": "code",
   "execution_count": null,
   "metadata": {},
   "outputs": [],
   "source": [
    "def ConfusionMatrix(y_true,y_pred):\n",
    "    \n",
    "    \"\"\"\n",
    "    :type y_true: numpy.ndarray\n",
    "    :type y_pred: numpy.ndarray\n",
    "    :rtype: float\n",
    "    \"\"\"  \n",
    "    cf_matrix = np.zeros((11,11))\n",
    "    \n",
    "    for x in range(y_true):\n",
    "        cf_matrix[y_true][y_pred] = cf_matrix[y_true][y_pred] + 1\n",
    "    \n",
    "    return cf_matrix"
   ]
  },
  {
   "cell_type": "code",
   "execution_count": null,
   "metadata": {},
   "outputs": [],
   "source": [
    "def KNN(X_train,X_test,Y_train):\n",
    "    \"\"\"\n",
    "    :type X_train: numpy.ndarray\n",
    "    :type X_test: numpy.ndarray\n",
    "    :type Y_train: numpy.ndarray\n",
    "    \n",
    "    :rtype: numpy.ndarray\n",
    "    \"\"\"\n",
    "    k=10\n",
    "    labels = np.zeros(X_test.shape[0])\n",
    "    for x in range(X_test.shape[0]):\n",
    "        row = np.tile(X_test[x], (X_train.shape[0],1))\n",
    "        diff_matrix = np.mean(np.absolute(X_train - row), axis=1)\n",
    "        labelled_matrix = np.vstack((diff_matrix, Y_train))\n",
    "        labelled_matrix = labelled_matrix.T\n",
    "        sorted_matrix = labelled_matrix[labelled_matrix[:,0].argsort()]\n",
    "        top_k = sorted_matrix[:k]\n",
    "        labels[x] = stats.mode(top_k[:,1])[0]\n",
    "    return labels"
   ]
  },
  {
   "cell_type": "code",
   "execution_count": null,
   "metadata": {},
   "outputs": [],
   "source": [
    "def RandomForest(X_train,Y_train,X_test):\n",
    "    \"\"\"\n",
    "    :type X_train: numpy.ndarray\n",
    "    :type X_test: numpy.ndarray\n",
    "    :type Y_train: numpy.ndarray\n",
    "    \n",
    "    :rtype: numpy.ndarray\n",
    "    \"\"\""
   ]
  },
  {
   "cell_type": "code",
   "execution_count": null,
   "metadata": {},
   "outputs": [],
   "source": [
    "def PCA(X_train,N):\n",
    "    \"\"\"\n",
    "    :type X_train: numpy.ndarray\n",
    "    :type N: int\n",
    "    :rtype: numpy.ndarray\n",
    "    \"\"\"\n",
    "    Covariance = np.dot(X_train.T, X_train) / (N-1)\n",
    "    __ , vector = np.linalg.eig(Covariance)\n",
    "    return np.dot(X_train, vector)"
   ]
  },
  {
   "cell_type": "code",
   "execution_count": null,
   "metadata": {},
   "outputs": [],
   "source": [
    "def Kmeans(X_train,N):\n",
    "    \"\"\"\n",
    "    :type X_train: numpy.ndarray\n",
    "    :type N: int\n",
    "    :rtype: List[numpy.ndarray]\n",
    "    \"\"\"\n",
    "    \n",
    "    cluster_centers = X_train[np.random.choice(X_train.shape[0], size = N), ]\n",
    "    clusters = [np.zeros((1,X_train.shape[1])) for x in range(N)]\n",
    "    \n",
    "    epochs = 1000\n",
    "    \n",
    "    for epoch in range(epochs):\n",
    "        for x in range(X_train.shape[0]):\n",
    "            center_index = find_center(cluster_centers, X_train[x], N)\n",
    "\n",
    "            # Adding the new point to the cluster.        \n",
    "            clusters[center_index] = np.vstack((clusters[center_index], X_train[x]))\n",
    "\n",
    "        # Recomputing the center.\n",
    "        cluster_centers[center_index] = np.mean(clusters[center_index], axis = 0)\n",
    "\n",
    "    \n",
    "    return clusters"
   ]
  },
  {
   "cell_type": "code",
   "execution_count": null,
   "metadata": {},
   "outputs": [],
   "source": [
    "def SklearnSupervisedLearning(X_train,Y_train,X_test):\n",
    "    \"\"\"\n",
    "    :type X_train: numpy.ndarray\n",
    "    :type X_test: numpy.ndarray\n",
    "    :type Y_train: numpy.ndarray\n",
    "    \n",
    "    :rtype: List[numpy.ndarray] \n",
    "    \"\"\""
   ]
  },
  {
   "cell_type": "code",
   "execution_count": null,
   "metadata": {},
   "outputs": [],
   "source": [
    "def SklearnVotingClassifier(X_train,Y_train,X_test):\n",
    "    \n",
    "    \"\"\"\n",
    "    :type X_train: numpy.ndarray\n",
    "    :type X_test: numpy.ndarray\n",
    "    :type Y_train: numpy.ndarray\n",
    "    \n",
    "    :rtype: List[numpy.ndarray] \n",
    "    \"\"\""
   ]
  },
  {
   "cell_type": "code",
   "execution_count": null,
   "metadata": {},
   "outputs": [],
   "source": [
    "\"\"\"\n",
    "Create your own custom functions for Matplotlib visualization of hyperparameter search. \n",
    "Make sure that plots are labeled and proper legends are used\n",
    "\"\"\"\n",
    "\n",
    "def import_data(filename):\n",
    "    df = pd.read_csv(filename)\n",
    "    return df\n",
    "\n",
    "    "
   ]
  },
  {
   "cell_type": "code",
   "execution_count": null,
   "metadata": {},
   "outputs": [],
   "source": [
    "start_time = time.time()\n",
    "z = Kmeans(X_train, k)\n",
    "WCSS(z)\n",
    "\n",
    "print(\"--- %s seconds ---\" % (time.time() - start_time))"
   ]
  },
  {
   "cell_type": "code",
   "execution_count": null,
   "metadata": {},
   "outputs": [],
   "source": [
    "start_time = time.time()\n",
    "z= KNN(X_train, X_test, y_train)\n",
    "print(\"--- %s seconds ---\" % (time.time() - start_time))"
   ]
  },
  {
   "cell_type": "code",
   "execution_count": null,
   "metadata": {},
   "outputs": [],
   "source": [
    "Accuracy(z, y_test)"
   ]
  },
  {
   "cell_type": "code",
   "execution_count": null,
   "metadata": {},
   "outputs": [],
   "source": [
    "z\n"
   ]
  },
  {
   "cell_type": "code",
   "execution_count": null,
   "metadata": {},
   "outputs": [],
   "source": [
    "start_time = time.time()\n",
    "print(PCA(X_train, X_train.shape))\n",
    "print(\"--- %s seconds ---\" % (time.time() - start_time))"
   ]
  },
  {
   "cell_type": "code",
   "execution_count": null,
   "metadata": {},
   "outputs": [],
   "source": []
  }
 ],
 "metadata": {
  "kernelspec": {
   "display_name": "Python 3",
   "language": "python",
   "name": "python3"
  },
  "language_info": {
   "codemirror_mode": {
    "name": "ipython",
    "version": 3
   },
   "file_extension": ".py",
   "mimetype": "text/x-python",
   "name": "python",
   "nbconvert_exporter": "python",
   "pygments_lexer": "ipython3",
   "version": "3.7.4"
  }
 },
 "nbformat": 4,
 "nbformat_minor": 2
}
