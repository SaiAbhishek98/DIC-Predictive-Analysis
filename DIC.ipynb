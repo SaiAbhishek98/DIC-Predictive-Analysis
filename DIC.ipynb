{
 "cells": [
  {
   "cell_type": "code",
   "execution_count": 98,
   "metadata": {},
   "outputs": [],
   "source": [
    "# -*- coding: utf-8 -*-\n",
    "\"\"\"\n",
    "Predicitve_Analytics.py\n",
    "\"\"\"\n",
    "%matplotlib inline\n",
    "import pandas as pd\n",
    "import numpy as np\n",
    "import matplotlib.pyplot as plt \n",
    "\n",
    "\n",
    "from sklearn.model_selection import train_test_split\n",
    "from scipy import stats\n",
    "\n",
    "import time\n",
    "\n",
    "\n",
    "from sklearn.preprocessing import MinMaxScaler\n",
    "from sklearn.metrics import accuracy_score"
   ]
  },
  {
   "cell_type": "code",
   "execution_count": 122,
   "metadata": {},
   "outputs": [],
   "source": [
    "def zscorenormalisation(X_train):\n",
    "    sta_vec = np.std(X_train ,axis = 0)\n",
    "    mean_vec = np.mean(X_train, axis = 0)\n",
    "    \n",
    "    for row in range(X_train.shape[0]):\n",
    "        for col in range(X_train.shape[1]):\n",
    "            X_train[row][col] = (X_train[row][col] - mean_vec[col])/sta_vec[col]\n",
    "    \n",
    "    return X_train"
   ]
  },
  {
   "cell_type": "code",
   "execution_count": 109,
   "metadata": {},
   "outputs": [
    {
     "name": "stdout",
     "output_type": "stream",
     "text": [
      "(48,)\n"
     ]
    }
   ],
   "source": [
    "zscorenormalisation(X_train)"
   ]
  },
  {
   "cell_type": "code",
   "execution_count": 127,
   "metadata": {},
   "outputs": [],
   "source": [
    "def import_data(filename):\n",
    "    df = pd.read_csv(filename)\n",
    "    return df\n",
    "\n",
    "df = import_data('data.csv')\n",
    "\n",
    "input_data = df.values\n",
    "\n",
    "X = input_data[:, :input_data.shape[1]-1]\n",
    "y = input_data[:, input_data.shape[1]-1]\n",
    "\n",
    "\n",
    "X_train, X_test, y_train, y_test = train_test_split(X, y, test_size = 0.2)\n",
    "\n",
    "# scalar = MinMaxScaler()\n",
    "\n",
    "# scalar.fit(X_train)\n",
    "# X_train = scalar.transform(X_train)\n",
    "# scalar.fit(X_test)\n",
    "# X_test = scalar.transform(X_test)\n",
    "\n",
    "X_train = zscorenormalisation(X_train)\n",
    "X_test = zscorenormalisation(X_test)\n"
   ]
  },
  {
   "cell_type": "code",
   "execution_count": 4,
   "metadata": {},
   "outputs": [],
   "source": [
    "k = 10"
   ]
  },
  {
   "cell_type": "code",
   "execution_count": 129,
   "metadata": {},
   "outputs": [],
   "source": [
    "def find_center(cluster_centers, row, k):\n",
    "    \n",
    "    rows = np.tile(row, (k,1))\n",
    "    \n",
    "#     diff_vector = np.sum(np.absolute(cluster_centers - rows), axis = 1)\n",
    "    diff_vector = np.sqrt(np.sum(np.square(cluster_centers - rows), axis = 1))\n",
    "    \n",
    "    return np.argmin(diff_vector)"
   ]
  },
  {
   "cell_type": "code",
   "execution_count": 128,
   "metadata": {},
   "outputs": [],
   "source": [
    "def Accuracy(y_true,y_pred):\n",
    "    \"\"\"\n",
    "    :type y_true: numpy.ndarray\n",
    "    :type y_pred: numpy.ndarray\n",
    "    :rtype: float\n",
    "    \n",
    "    \"\"\"\n",
    "    diff = y_true - y_pred\n",
    "    t = np.where(diff == 0)\n",
    "    return t[0].shape[0]/y_true.shape[0]"
   ]
  },
  {
   "cell_type": "code",
   "execution_count": 130,
   "metadata": {},
   "outputs": [],
   "source": [
    "def Recall(y_true,y_pred):\n",
    "    \"\"\"\n",
    "    :type y_true: numpy.ndarray\n",
    "    :type y_pred: numpy.ndarray\n",
    "    :rtype: float\n",
    "    \"\"\"\n",
    "    labels = [1,2,3,4,5,6,7,8,9,10,11]\n",
    "    macro = []\n",
    "    tp = [0 for x in labels]\n",
    "    fn = [0 for x in labels]\n",
    "    for i in range(len(labels)):\n",
    "        actual = y_true\n",
    "        pred = y_pred\n",
    "        \n",
    "        act_diff = actual - labels[i]\n",
    "        pred_diff = pred - labels[i]\n",
    "        \n",
    "        for x in range(y_true.shape[0]):\n",
    "            if y_true[x] == labels[i]:\n",
    "                if y_pred[x] == y_true[x]:\n",
    "                    tp[i] = tp[i] + 1\n",
    "                else:\n",
    "                    fn[i] = fn[i] + 1\n",
    "        \n",
    "\n",
    "    \n",
    "    return np.sum(tp)/(np.sum(tp)+np.sum(fn))\n",
    "        "
   ]
  },
  {
   "cell_type": "code",
   "execution_count": 145,
   "metadata": {},
   "outputs": [
    {
     "name": "stdout",
     "output_type": "stream",
     "text": [
      "0.970458984375\n"
     ]
    }
   ],
   "source": [
    "print(Recall(y_test, z))"
   ]
  },
  {
   "cell_type": "code",
   "execution_count": 132,
   "metadata": {},
   "outputs": [],
   "source": [
    "def Precision(y_true,y_pred):\n",
    "    \"\"\"\n",
    "    :type y_true: numpy.ndarray\n",
    "    :type y_pred: numpy.ndarray\n",
    "    :rtype: float\n",
    "    \"\"\"\n",
    "    labels = [1,2,3,4,5,6,7,8,9,10,11]\n",
    "    macro = []\n",
    "    tp = [0 for x in labels]\n",
    "    fp = [0 for x in labels]\n",
    "    for i in range(len(labels)):\n",
    "        actual = y_true\n",
    "        pred = y_pred\n",
    "        \n",
    "        act_diff = actual - labels[i]\n",
    "        pred_diff = pred - labels[i]\n",
    "        \n",
    "        for x in range(y_true.shape[0]):\n",
    "            if y_pred[x] == labels[i]:\n",
    "                if y_pred[x] == y_true[x]:\n",
    "                    tp[i] = tp[i] + 1\n",
    "                else:\n",
    "                    fp[i] = fp[i] + 1\n",
    "    \n",
    "    return np.sum(tp)/(np.sum(tp)+np.sum(fp))\n",
    "        \n",
    "    "
   ]
  },
  {
   "cell_type": "code",
   "execution_count": 146,
   "metadata": {},
   "outputs": [
    {
     "name": "stdout",
     "output_type": "stream",
     "text": [
      "0.970458984375\n"
     ]
    }
   ],
   "source": [
    "print(Precision(y_test, z))"
   ]
  },
  {
   "cell_type": "code",
   "execution_count": 134,
   "metadata": {},
   "outputs": [],
   "source": [
    "def WCSS(Clusters):\n",
    "    \"\"\"\n",
    "    :Clusters List[numpy.ndarray]\n",
    "    \"\"\"\n",
    "    wcss = 0\n",
    "    # Get a cluster\n",
    "    for cluster in Clusters:\n",
    "        \n",
    "        cluster_center = np.mean(cluster, axis = 0)\n",
    "        \n",
    "        # Compute all distances from cluster center.\n",
    "        center_vector = np.tile(cluster_center, (cluster.shape[0], 1))\n",
    "        \n",
    "        \n",
    "        wcss = wcss + np.sum(np.sqrt(np.sum(np.square(center_vector - cluster), axis = 1)))\n",
    "#         wcss = wcss + np.sum(np.absolute(center_vector - cluster))\n",
    "    \n",
    "    return wcss\n",
    "\n",
    "    "
   ]
  },
  {
   "cell_type": "code",
   "execution_count": 135,
   "metadata": {},
   "outputs": [],
   "source": [
    "def ConfusionMatrix(y_true,y_pred):\n",
    "    \n",
    "    \"\"\"\n",
    "    :type y_true: numpy.ndarray\n",
    "    :type y_pred: numpy.ndarray\n",
    "    :rtype: float\n",
    "    \"\"\"  \n",
    "    cf_matrix = np.zeros((11,11))\n",
    "    \n",
    "    for x in range(y_true):\n",
    "        cf_matrix[y_true][y_pred] = cf_matrix[y_true][y_pred] + 1\n",
    "    \n",
    "    return cf_matrix"
   ]
  },
  {
   "cell_type": "code",
   "execution_count": 136,
   "metadata": {},
   "outputs": [],
   "source": [
    "def KNN(X_train,X_test,Y_train):\n",
    "    \"\"\"\n",
    "    :type X_train: numpy.ndarray\n",
    "    :type X_test: numpy.ndarray\n",
    "    :type Y_train: numpy.ndarray\n",
    "    \n",
    "    :rtype: numpy.ndarray\n",
    "    \"\"\"\n",
    "    k=10\n",
    "    labels = np.zeros(X_test.shape[0])\n",
    "    for x in range(X_test.shape[0]):\n",
    "        row = np.tile(X_test[x], (X_train.shape[0],1))\n",
    "        diff_matrix = np.sum(np.absolute(X_train - row), axis=1)\n",
    "        labelled_matrix = np.vstack((diff_matrix, Y_train))\n",
    "        labelled_matrix = labelled_matrix.T\n",
    "        sorted_matrix = labelled_matrix[labelled_matrix[:,0].argsort()]\n",
    "        top_k = sorted_matrix[:k]\n",
    "        labels[x] = stats.mode(top_k[:,1])[0]\n",
    "    return labels"
   ]
  },
  {
   "cell_type": "code",
   "execution_count": 137,
   "metadata": {},
   "outputs": [],
   "source": [
    "def RandomForest(X_train,Y_train,X_test):\n",
    "    \"\"\"\n",
    "    :type X_train: numpy.ndarray\n",
    "    :type X_test: numpy.ndarray\n",
    "    :type Y_train: numpy.ndarray\n",
    "    \n",
    "    :rtype: numpy.ndarray\n",
    "    \"\"\""
   ]
  },
  {
   "cell_type": "code",
   "execution_count": 138,
   "metadata": {},
   "outputs": [],
   "source": [
    "def PCA(X_train,N):\n",
    "    \"\"\"\n",
    "    :type X_train: numpy.ndarray\n",
    "    :type N: int\n",
    "    :rtype: numpy.ndarray\n",
    "    \"\"\"\n",
    "    Covariance = np.dot(X_train.T, X_train) / (N-1)\n",
    "    __ , vector = np.linalg.eig(Covariance)\n",
    "    return np.dot(X_train, vector)"
   ]
  },
  {
   "cell_type": "code",
   "execution_count": 139,
   "metadata": {},
   "outputs": [],
   "source": [
    "def Kmeans(X_train,N):\n",
    "    \"\"\"\n",
    "    :type X_train: numpy.ndarray\n",
    "    :type N: int\n",
    "    :rtype: List[numpy.ndarray]\n",
    "    \"\"\"\n",
    "    \n",
    "    cluster_centers = X_train[np.random.choice(X_train.shape[0], size = N), ]\n",
    "    clusters = [np.zeros((1,X_train.shape[1])) for x in range(N)]\n",
    "    \n",
    "    epochs = 10\n",
    "    \n",
    "    for epoch in range(epochs):\n",
    "        print(epoch)\n",
    "        clusters = [np.zeros((1,X_train.shape[1])) for x in range(N)]\n",
    "        \n",
    "        print('starting main loop')\n",
    "        for x in range(X_train.shape[0]):\n",
    "            center_index = find_center(cluster_centers, X_train[x], N)\n",
    "\n",
    "            # Adding the new point to the cluster.        \n",
    "            clusters[center_index] = np.vstack((clusters[center_index], X_train[x]))\n",
    "        \n",
    "        print('recomputing center.')\n",
    "        \n",
    "        # Recomputing the center.\n",
    "        for x in range(cluster_centers.shape[0]): \n",
    "            cluster_centers[x] = np.mean(clusters[x], axis = 0)\n",
    "        \n",
    "        print('done computing centers.')\n",
    "\n",
    "    \n",
    "    return clusters"
   ]
  },
  {
   "cell_type": "code",
   "execution_count": 140,
   "metadata": {},
   "outputs": [],
   "source": [
    "def SklearnSupervisedLearning(X_train,Y_train,X_test):\n",
    "    \"\"\"\n",
    "    :type X_train: numpy.ndarray\n",
    "    :type X_test: numpy.ndarray\n",
    "    :type Y_train: numpy.ndarray\n",
    "    \n",
    "    :rtype: List[numpy.ndarray] \n",
    "    \"\"\""
   ]
  },
  {
   "cell_type": "code",
   "execution_count": 141,
   "metadata": {},
   "outputs": [],
   "source": [
    "def SklearnVotingClassifier(X_train,Y_train,X_test):\n",
    "    \n",
    "    \"\"\"\n",
    "    :type X_train: numpy.ndarray\n",
    "    :type X_test: numpy.ndarray\n",
    "    :type Y_train: numpy.ndarray\n",
    "    \n",
    "    :rtype: List[numpy.ndarray] \n",
    "    \"\"\""
   ]
  },
  {
   "cell_type": "code",
   "execution_count": 142,
   "metadata": {},
   "outputs": [
    {
     "data": {
      "text/plain": [
       "'\\nCreate your own custom functions for Matplotlib visualization of hyperparameter search. \\nMake sure that plots are labeled and proper legends are used\\n'"
      ]
     },
     "execution_count": 142,
     "metadata": {},
     "output_type": "execute_result"
    }
   ],
   "source": [
    "\"\"\"\n",
    "Create your own custom functions for Matplotlib visualization of hyperparameter search. \n",
    "Make sure that plots are labeled and proper legends are used\n",
    "\"\"\" "
   ]
  },
  {
   "cell_type": "code",
   "execution_count": 143,
   "metadata": {},
   "outputs": [
    {
     "name": "stdout",
     "output_type": "stream",
     "text": [
      "0\n",
      "starting main loop\n",
      "recomputing center.\n",
      "done computing centers.\n",
      "1\n",
      "starting main loop\n",
      "recomputing center.\n",
      "done computing centers.\n",
      "2\n",
      "starting main loop\n",
      "recomputing center.\n",
      "done computing centers.\n",
      "3\n",
      "starting main loop\n",
      "recomputing center.\n",
      "done computing centers.\n",
      "4\n",
      "starting main loop\n",
      "recomputing center.\n",
      "done computing centers.\n",
      "5\n",
      "starting main loop\n",
      "recomputing center.\n",
      "done computing centers.\n",
      "6\n",
      "starting main loop\n",
      "recomputing center.\n",
      "done computing centers.\n",
      "7\n",
      "starting main loop\n",
      "recomputing center.\n",
      "done computing centers.\n",
      "8\n",
      "starting main loop\n",
      "recomputing center.\n",
      "done computing centers.\n",
      "9\n",
      "starting main loop\n",
      "recomputing center.\n",
      "done computing centers.\n",
      "--- 104.35855793952942 seconds ---\n",
      "147228.8081345505\n",
      "--- 104.38286709785461 seconds ---\n"
     ]
    }
   ],
   "source": [
    "start_time = time.time()\n",
    "K_clusters = Kmeans(X_train, k)\n",
    "print(\"--- %s seconds ---\" % (time.time() - start_time))\n",
    "\n",
    "print(WCSS(K_clusters))\n",
    "\n",
    "print(\"--- %s seconds ---\" % (time.time() - start_time))"
   ]
  },
  {
   "cell_type": "code",
   "execution_count": 144,
   "metadata": {},
   "outputs": [
    {
     "name": "stdout",
     "output_type": "stream",
     "text": [
      "--- 279.2339541912079 seconds ---\n"
     ]
    }
   ],
   "source": [
    "start_time = time.time()\n",
    "z= KNN(X_train, X_test, y_train)\n",
    "print(\"--- %s seconds ---\" % (time.time() - start_time))"
   ]
  },
  {
   "cell_type": "code",
   "execution_count": 147,
   "metadata": {},
   "outputs": [
    {
     "data": {
      "text/plain": [
       "0.970458984375"
      ]
     },
     "execution_count": 147,
     "metadata": {},
     "output_type": "execute_result"
    }
   ],
   "source": [
    "z\n",
    "Accuracy(y_test, z)\n"
   ]
  },
  {
   "cell_type": "code",
   "execution_count": null,
   "metadata": {},
   "outputs": [],
   "source": [
    "\n"
   ]
  },
  {
   "cell_type": "code",
   "execution_count": null,
   "metadata": {},
   "outputs": [],
   "source": [
    "start_time = time.time()\n",
    "print(PCA(X_train, X_train.shape))\n",
    "print(\"--- %s seconds ---\" % (time.time() - start_time))"
   ]
  },
  {
   "cell_type": "code",
   "execution_count": 21,
   "metadata": {
    "scrolled": true
   },
   "outputs": [
    {
     "data": {
      "image/png": "[encoded data removed]",
      "text/plain": [
       "<Figure size 432x288 with 1 Axes>"
      ]
     },
     "metadata": {
      "needs_background": "light"
     },
     "output_type": "display_data"
    }
   ],
   "source": [
    "%matplotlib inline\n",
    "    \n",
    "    \n",
    "# Plotting K means\n",
    "def Plot_clusters(clusters):\n",
    "    fig = plt.figure()\n",
    "#     ax = fig.add_subplot(111)\n",
    "\n",
    "    \n",
    "    \n",
    "    plt.plot(X_train,y_train)\n",
    " \n",
    "    plt.show()\n",
    "\n",
    "Plot_clusters([1,2])"
   ]
  },
  {
   "cell_type": "code",
   "execution_count": 25,
   "metadata": {},
   "outputs": [
    {
     "name": "stdout",
     "output_type": "stream",
     "text": [
      "262066.43499793817\n"
     ]
    }
   ],
   "source": [
    "# plt.imshow(Confu, cmap='binary')\n",
    "\n",
    "\n",
    "print(WCSS(K_clusters))"
   ]
  },
  {
   "cell_type": "code",
   "execution_count": 97,
   "metadata": {},
   "outputs": [
    {
     "name": "stdout",
     "output_type": "stream",
     "text": [
      "[ 7.  3. 11. ...  1.  5.  7.]\n",
      "[ 3.  2. 11. ...  4.  3.  1.]\n"
     ]
    }
   ],
   "source": [
    "print(y_test)\n",
    "print(z)"
   ]
  },
  {
   "cell_type": "code",
   "execution_count": 105,
   "metadata": {},
   "outputs": [
    {
     "data": {
      "text/plain": [
       "(8192, 48)"
      ]
     },
     "execution_count": 105,
     "metadata": {},
     "output_type": "execute_result"
    }
   ],
   "source": [
    "X_test.shape[0]\n",
    "q = np.tile(X_train[0], (X_test.shape[0],1))\n",
    "q.shape\n",
    "\n",
    "\n"
   ]
  },
  {
   "cell_type": "code",
   "execution_count": 116,
   "metadata": {},
   "outputs": [
    {
     "data": {
      "text/plain": [
       "array([7., 6., 3., ..., 7., 5., 6.])"
      ]
     },
     "execution_count": 116,
     "metadata": {},
     "output_type": "execute_result"
    }
   ],
   "source": []
  },
  {
   "cell_type": "code",
   "execution_count": null,
   "metadata": {},
   "outputs": [],
   "source": []
  }
 ],
 "metadata": {
  "kernelspec": {
   "display_name": "Python 3",
   "language": "python",
   "name": "python3"
  },
  "language_info": {
   "codemirror_mode": {
    "name": "ipython",
    "version": 3
   },
   "file_extension": ".py",
   "mimetype": "text/x-python",
   "name": "python",
   "nbconvert_exporter": "python",
   "pygments_lexer": "ipython3",
   "version": "3.7.4"
  }
 },
 "nbformat": 4,
 "nbformat_minor": 2
}
