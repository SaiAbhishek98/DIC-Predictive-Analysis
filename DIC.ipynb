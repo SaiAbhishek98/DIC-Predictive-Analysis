{
 "cells": [
  {
   "cell_type": "code",
   "execution_count": 68,
   "metadata": {},
   "outputs": [],
   "source": [
    "# -*- coding: utf-8 -*-\n",
    "\"\"\"\n",
    "Predicitve_Analytics.py\n",
    "\"\"\"\n",
    "import pandas as pd\n",
    "import numpy as np\n",
    "from sklearn.model_selection import train_test_split\n",
    "from scipy import stats\n",
    "import time"
   ]
  },
  {
   "cell_type": "code",
   "execution_count": 69,
   "metadata": {},
   "outputs": [
    {
     "data": {
      "text/plain": [
       "48"
      ]
     },
     "execution_count": 69,
     "metadata": {},
     "output_type": "execute_result"
    }
   ],
   "source": [
    "df = import_data('data.csv')\n",
    "\n",
    "input_data = df.values\n",
    "\n",
    "np.random.shuffle(input_data)\n",
    "\n",
    "X = input_data[:, :input_data.shape[1]-1]\n",
    "y = input_data[:, input_data.shape[1]-1]\n",
    "\n",
    "\n",
    "X_train, X_test, y_train, y_test = train_test_split(X, y, test_size = 0.2)\n",
    "X_train.shape[1]"
   ]
  },
  {
   "cell_type": "code",
   "execution_count": 23,
   "metadata": {},
   "outputs": [],
   "source": [
    "k = 10"
   ]
  },
  {
   "cell_type": "code",
   "execution_count": null,
   "metadata": {},
   "outputs": [],
   "source": [
    "def find_center(cluster_centers, row, k):\n",
    "    \n",
    "    rows = np.tile(row, (k,1))\n",
    "    \n",
    "    diff_vector = np.sum(np.absolute(cluster_centers - rows), axis = 1)\n",
    "    \n",
    "    return np.argmin(diff_vector)"
   ]
  },
  {
   "cell_type": "code",
   "execution_count": null,
   "metadata": {},
   "outputs": [],
   "source": [
    "def Accuracy(y_true,y_pred):\n",
    "    \"\"\"\n",
    "    :type y_true: numpy.ndarray\n",
    "    :type y_pred: numpy.ndarray\n",
    "    :rtype: float\n",
    "    \n",
    "    \"\"\""
   ]
  },
  {
   "cell_type": "code",
   "execution_count": null,
   "metadata": {},
   "outputs": [],
   "source": [
    "def Recall(y_true,y_pred):\n",
    "     \"\"\"\n",
    "    :type y_true: numpy.ndarray\n",
    "    :type y_pred: numpy.ndarray\n",
    "    :rtype: float\n",
    "    \"\"\""
   ]
  },
  {
   "cell_type": "code",
   "execution_count": null,
   "metadata": {},
   "outputs": [],
   "source": [
    "def Precision(y_true,y_pred):\n",
    "    \"\"\"\n",
    "    :type y_true: numpy.ndarray\n",
    "    :type y_pred: numpy.ndarray\n",
    "    :rtype: float\n",
    "    \"\"\"\n",
    "    "
   ]
  },
  {
   "cell_type": "code",
   "execution_count": 13,
   "metadata": {},
   "outputs": [],
   "source": [
    "def WCSS(Clusters):\n",
    "    \"\"\"\n",
    "    :Clusters List[numpy.ndarray]\n",
    "    \"\"\"\n",
    "    \n",
    "\n",
    "    "
   ]
  },
  {
   "cell_type": "code",
   "execution_count": null,
   "metadata": {},
   "outputs": [],
   "source": [
    "def ConfusionMatrix(y_true,y_pred):\n",
    "    \n",
    "    \"\"\"\n",
    "    :type y_true: numpy.ndarray\n",
    "    :type y_pred: numpy.ndarray\n",
    "    :rtype: float\n",
    "    \"\"\"  "
   ]
  },
  {
   "cell_type": "code",
   "execution_count": 93,
   "metadata": {},
   "outputs": [],
   "source": [
    "def KNN(X_train,X_test,Y_train):\n",
    "    \"\"\"\n",
    "    :type X_train: numpy.ndarray\n",
    "    :type X_test: numpy.ndarray\n",
    "    :type Y_train: numpy.ndarray\n",
    "    \n",
    "    :rtype: numpy.ndarray\n",
    "    \"\"\"\n",
    "    k=5\n",
    "    labels = np.zeros(X_test.shape[0])\n",
    "    for x in range(X_test.shape[0]):\n",
    "        row = np.tile(X_test[x], (X_train.shape[0],1))\n",
    "        diff_matrix = np.mean(np.absolute(X_train - row), axis=1)\n",
    "        labelled_matrix = np.vstack((diff_matrix, Y_train))\n",
    "        labelled_matrix = labelled_matrix.T\n",
    "        sorted_matrix = labelled_matrix[labelled_matrix[:,0].argsort()]\n",
    "        top_k = sorted_matrix[:k]\n",
    "        labels[x] = stats.mode(top_k[:,1])[0]\n",
    "    return labels"
   ]
  },
  {
   "cell_type": "code",
   "execution_count": null,
   "metadata": {},
   "outputs": [],
   "source": [
    "def RandomForest(X_train,Y_train,X_test):\n",
    "    \"\"\"\n",
    "    :type X_train: numpy.ndarray\n",
    "    :type X_test: numpy.ndarray\n",
    "    :type Y_train: numpy.ndarray\n",
    "    \n",
    "    :rtype: numpy.ndarray\n",
    "    \"\"\""
   ]
  },
  {
   "cell_type": "code",
   "execution_count": null,
   "metadata": {},
   "outputs": [],
   "source": [
    "def PCA(X_train,N):\n",
    "    \"\"\"\n",
    "    :type X_train: numpy.ndarray\n",
    "    :type N: int\n",
    "    :rtype: numpy.ndarray\n",
    "    \"\"\"\n",
    " "
   ]
  },
  {
   "cell_type": "code",
   "execution_count": 7,
   "metadata": {},
   "outputs": [],
   "source": [
    "   \n",
    "def Kmeans(X_train,N):\n",
    "    \"\"\"\n",
    "    :type X_train: numpy.ndarray\n",
    "    :type N: int\n",
    "    :rtype: List[numpy.ndarray]\n",
    "    \"\"\"\n",
    "    \n",
    "    cluster_centers = X_train[np.random.choice(X_train.shape[0], size = N), ]\n",
    "    clusters = [np.zeros((1,X_train.shape[1])) for x in range(N)]\n",
    "    \n",
    "    \n",
    "    for x in range(X_train.shape[0]):\n",
    "        center_index = find_center(cluster_centers, X_train[x], N)\n",
    "        \n",
    "        # Adding the new point to the cluster.        \n",
    "        clusters[center_index] = np.vstack((clusters[center_index], X_train[x]))\n",
    "        \n",
    "        # Recomputing the center.\n",
    "        cluster_centers[center_index] = np.mean(clusters[center_index], axis = 0)\n",
    "        \n",
    "    \n",
    "    return clusters\n",
    "        \n",
    "        \n",
    "    \n",
    "    \n",
    "    \n",
    "    \n",
    "    \n",
    "    "
   ]
  },
  {
   "cell_type": "code",
   "execution_count": null,
   "metadata": {},
   "outputs": [],
   "source": [
    "def SklearnSupervisedLearning(X_train,Y_train,X_test):\n",
    "    \"\"\"\n",
    "    :type X_train: numpy.ndarray\n",
    "    :type X_test: numpy.ndarray\n",
    "    :type Y_train: numpy.ndarray\n",
    "    \n",
    "    :rtype: List[numpy.ndarray] \n",
    "    \"\"\""
   ]
  },
  {
   "cell_type": "code",
   "execution_count": null,
   "metadata": {},
   "outputs": [],
   "source": [
    "def SklearnVotingClassifier(X_train,Y_train,X_test):\n",
    "    \n",
    "    \"\"\"\n",
    "    :type X_train: numpy.ndarray\n",
    "    :type X_test: numpy.ndarray\n",
    "    :type Y_train: numpy.ndarray\n",
    "    \n",
    "    :rtype: List[numpy.ndarray] \n",
    "    \"\"\""
   ]
  },
  {
   "cell_type": "code",
   "execution_count": 3,
   "metadata": {},
   "outputs": [],
   "source": [
    "\"\"\"\n",
    "Create your own custom functions for Matplotlib visualization of hyperparameter search. \n",
    "Make sure that plots are labeled and proper legends are used\n",
    "\"\"\"\n",
    "\n",
    "def import_data(filename):\n",
    "    df = pd.read_csv(filename)\n",
    "    return df\n",
    "\n",
    "    "
   ]
  },
  {
   "cell_type": "code",
   "execution_count": 12,
   "metadata": {},
   "outputs": [
    {
     "name": "stdout",
     "output_type": "stream",
     "text": [
      "--- 29.562199115753174 seconds ---\n"
     ]
    }
   ],
   "source": [
    "start_time = time.time()\n",
    "z = Kmeans(X_train, k)\n",
    "WCSSC(z)\n",
    "\n",
    "print(\"--- %s seconds ---\" % (time.time() - start_time))"
   ]
  },
  {
   "cell_type": "code",
   "execution_count": 94,
   "metadata": {},
   "outputs": [
    {
     "name": "stdout",
     "output_type": "stream",
     "text": [
      "[ 8. 10.  7. ...  2.  4.  5.]\n",
      "\n",
      "--- 128.1010763645172 seconds ---\n"
     ]
    }
   ],
   "source": [
    "start_time = time.time()\n",
    "z= KNN(X_train, X_test, y_train)\n",
    "print(\"--- %s seconds ---\" % (time.time() - start_time))"
   ]
  },
  {
   "cell_type": "code",
   "execution_count": 74,
   "metadata": {},
   "outputs": [
    {
     "data": {
      "text/plain": [
       "(8192,)"
      ]
     },
     "execution_count": 74,
     "metadata": {},
     "output_type": "execute_result"
    }
   ],
   "source": [
    "z.shape\n"
   ]
  },
  {
   "cell_type": "code",
   "execution_count": 75,
   "metadata": {},
   "outputs": [
    {
     "name": "stdout",
     "output_type": "stream",
     "text": [
      "(8192, 48)\n"
     ]
    }
   ],
   "source": [
    "print(X_test.shape)"
   ]
  },
  {
   "cell_type": "code",
   "execution_count": 61,
   "metadata": {},
   "outputs": [
    {
     "name": "stdout",
     "output_type": "stream",
     "text": [
      "[ 7.2506e-06  2.3415e-05 -4.1742e-04 -2.4040e-06  1.2904e-05 -1.4468e-04\n",
      " -3.0434e-02 -3.0458e-02 -3.0040e-02 -3.8697e-02 -3.8710e-02 -3.8565e-02\n",
      "  2.2615e-03  1.1658e-03  3.8791e-03  2.2424e-03  1.1607e-03  3.6807e-03\n",
      "  1.3772e+00  1.3772e+00  1.3765e+00  1.3829e+00  1.3829e+00  1.3820e+00\n",
      " -1.5663e-02  1.8253e-01 -1.8392e+00 -4.6197e-03  6.9099e-02 -3.4398e-01\n",
      "  6.7915e-03  6.7470e-03  7.0187e-03 -1.8585e-02 -1.8595e-02 -1.8903e-02\n",
      " -7.3678e-01  6.1845e-01  1.7398e+01 -7.4332e-01  6.9332e-01  2.4694e+00\n",
      " -1.5027e+00 -1.5027e+00 -1.5025e+00 -1.4896e+00 -1.4896e+00 -1.4897e+00]\n"
     ]
    }
   ],
   "source": []
  },
  {
   "cell_type": "code",
   "execution_count": null,
   "metadata": {},
   "outputs": [],
   "source": []
  }
 ],
 "metadata": {
  "kernelspec": {
   "display_name": "Python 3",
   "language": "python",
   "name": "python3"
  },
  "language_info": {
   "codemirror_mode": {
    "name": "ipython",
    "version": 3
   },
   "file_extension": ".py",
   "mimetype": "text/x-python",
   "name": "python",
   "nbconvert_exporter": "python",
   "pygments_lexer": "ipython3",
   "version": "3.7.4"
  }
 },
 "nbformat": 4,
 "nbformat_minor": 2
}
