{
 "cells": [
  {
   "cell_type": "code",
   "execution_count": 77,
   "metadata": {},
   "outputs": [],
   "source": [
    "import pandas as pd\n",
    "import numpy as np\n",
    "from matplotlib import pyplot as plt\n",
    "\n",
    "%matplotlib inline\n",
    "from sklearn.model_selection import train_test_split\n",
    "from sklearn.feature_extraction.text import TfidfVectorizer\n",
    "from sklearn.naive_bayes import MultinomialNB\n",
    "from sklearn.metrics import accuracy_score\n",
    "from sklearn.multiclass import OneVsRestClassifier\n",
    "from sklearn.svm import LinearSVC\n",
    "from sklearn.linear_model import LogisticRegression\n",
    "from sklearn.pipeline import Pipeline\n",
    "import seaborn as sns\n"
   ]
  },
  {
   "cell_type": "code",
   "execution_count": 78,
   "metadata": {},
   "outputs": [],
   "source": [
    "df = pd.read_csv('data.csv')"
   ]
  },
  {
   "cell_type": "code",
   "execution_count": 79,
   "metadata": {
    "scrolled": true
   },
   "outputs": [
    {
     "data": {
      "text/html": [
       "<div>\n",
       "<style scoped>\n",
       "    .dataframe tbody tr th:only-of-type {\n",
       "        vertical-align: middle;\n",
       "    }\n",
       "\n",
       "    .dataframe tbody tr th {\n",
       "        vertical-align: top;\n",
       "    }\n",
       "\n",
       "    .dataframe thead th {\n",
       "        text-align: right;\n",
       "    }\n",
       "</style>\n",
       "<table border=\"1\" class=\"dataframe\">\n",
       "  <thead>\n",
       "    <tr style=\"text-align: right;\">\n",
       "      <th></th>\n",
       "      <th>0</th>\n",
       "      <th>1</th>\n",
       "      <th>2</th>\n",
       "      <th>3</th>\n",
       "      <th>4</th>\n",
       "      <th>5</th>\n",
       "      <th>6</th>\n",
       "      <th>7</th>\n",
       "      <th>8</th>\n",
       "      <th>9</th>\n",
       "      <th>...</th>\n",
       "      <th>39</th>\n",
       "      <th>40</th>\n",
       "      <th>41</th>\n",
       "      <th>42</th>\n",
       "      <th>43</th>\n",
       "      <th>44</th>\n",
       "      <th>45</th>\n",
       "      <th>46</th>\n",
       "      <th>47</th>\n",
       "      <th>48</th>\n",
       "    </tr>\n",
       "  </thead>\n",
       "  <tbody>\n",
       "    <tr>\n",
       "      <td>0</td>\n",
       "      <td>-3.014000e-06</td>\n",
       "      <td>-0.000044</td>\n",
       "      <td>-0.000278</td>\n",
       "      <td>-6.710100e-06</td>\n",
       "      <td>-0.000015</td>\n",
       "      <td>-0.000113</td>\n",
       "      <td>0.010787</td>\n",
       "      <td>0.010831</td>\n",
       "      <td>0.011108</td>\n",
       "      <td>0.002458</td>\n",
       "      <td>...</td>\n",
       "      <td>-0.71593</td>\n",
       "      <td>1.6617</td>\n",
       "      <td>12.1770</td>\n",
       "      <td>-1.5040</td>\n",
       "      <td>-1.5041</td>\n",
       "      <td>-1.5044</td>\n",
       "      <td>-1.4984</td>\n",
       "      <td>-1.4985</td>\n",
       "      <td>-1.4984</td>\n",
       "      <td>5</td>\n",
       "    </tr>\n",
       "    <tr>\n",
       "      <td>1</td>\n",
       "      <td>-4.532700e-06</td>\n",
       "      <td>-0.000027</td>\n",
       "      <td>0.000115</td>\n",
       "      <td>2.347100e-07</td>\n",
       "      <td>-0.000022</td>\n",
       "      <td>-0.000318</td>\n",
       "      <td>0.025578</td>\n",
       "      <td>0.025605</td>\n",
       "      <td>0.025490</td>\n",
       "      <td>0.025175</td>\n",
       "      <td>...</td>\n",
       "      <td>-0.61186</td>\n",
       "      <td>2.1574</td>\n",
       "      <td>6.7002</td>\n",
       "      <td>-1.4944</td>\n",
       "      <td>-1.4944</td>\n",
       "      <td>-1.4940</td>\n",
       "      <td>-1.5048</td>\n",
       "      <td>-1.5048</td>\n",
       "      <td>-1.5049</td>\n",
       "      <td>8</td>\n",
       "    </tr>\n",
       "    <tr>\n",
       "      <td>2</td>\n",
       "      <td>-9.615600e-07</td>\n",
       "      <td>0.000002</td>\n",
       "      <td>-0.000006</td>\n",
       "      <td>4.854600e-06</td>\n",
       "      <td>0.000006</td>\n",
       "      <td>-0.000015</td>\n",
       "      <td>0.006317</td>\n",
       "      <td>0.006315</td>\n",
       "      <td>0.006321</td>\n",
       "      <td>-0.035309</td>\n",
       "      <td>...</td>\n",
       "      <td>-0.48252</td>\n",
       "      <td>6.0859</td>\n",
       "      <td>16.2140</td>\n",
       "      <td>-1.4998</td>\n",
       "      <td>-1.4998</td>\n",
       "      <td>-1.4998</td>\n",
       "      <td>-1.4975</td>\n",
       "      <td>-1.4975</td>\n",
       "      <td>-1.4975</td>\n",
       "      <td>9</td>\n",
       "    </tr>\n",
       "    <tr>\n",
       "      <td>3</td>\n",
       "      <td>1.856800e-06</td>\n",
       "      <td>-0.000013</td>\n",
       "      <td>-0.000139</td>\n",
       "      <td>-2.323100e-06</td>\n",
       "      <td>-0.000059</td>\n",
       "      <td>0.000184</td>\n",
       "      <td>0.008755</td>\n",
       "      <td>0.008768</td>\n",
       "      <td>0.008907</td>\n",
       "      <td>-0.041292</td>\n",
       "      <td>...</td>\n",
       "      <td>-0.69714</td>\n",
       "      <td>0.6127</td>\n",
       "      <td>5.6592</td>\n",
       "      <td>-1.5036</td>\n",
       "      <td>-1.5036</td>\n",
       "      <td>-1.5033</td>\n",
       "      <td>-1.4945</td>\n",
       "      <td>-1.4945</td>\n",
       "      <td>-1.4944</td>\n",
       "      <td>9</td>\n",
       "    </tr>\n",
       "    <tr>\n",
       "      <td>4</td>\n",
       "      <td>-1.833400e-06</td>\n",
       "      <td>0.000007</td>\n",
       "      <td>0.000011</td>\n",
       "      <td>-4.316300e-06</td>\n",
       "      <td>0.000001</td>\n",
       "      <td>0.000010</td>\n",
       "      <td>0.021416</td>\n",
       "      <td>0.021409</td>\n",
       "      <td>0.021399</td>\n",
       "      <td>-0.018570</td>\n",
       "      <td>...</td>\n",
       "      <td>-0.48441</td>\n",
       "      <td>4.3420</td>\n",
       "      <td>12.3630</td>\n",
       "      <td>-1.4993</td>\n",
       "      <td>-1.4993</td>\n",
       "      <td>-1.4993</td>\n",
       "      <td>-1.4978</td>\n",
       "      <td>-1.4978</td>\n",
       "      <td>-1.4978</td>\n",
       "      <td>6</td>\n",
       "    </tr>\n",
       "  </tbody>\n",
       "</table>\n",
       "<p>5 rows × 49 columns</p>\n",
       "</div>"
      ],
      "text/plain": [
       "              0         1         2             3         4         5  \\\n",
       "0 -3.014000e-06 -0.000044 -0.000278 -6.710100e-06 -0.000015 -0.000113   \n",
       "1 -4.532700e-06 -0.000027  0.000115  2.347100e-07 -0.000022 -0.000318   \n",
       "2 -9.615600e-07  0.000002 -0.000006  4.854600e-06  0.000006 -0.000015   \n",
       "3  1.856800e-06 -0.000013 -0.000139 -2.323100e-06 -0.000059  0.000184   \n",
       "4 -1.833400e-06  0.000007  0.000011 -4.316300e-06  0.000001  0.000010   \n",
       "\n",
       "          6         7         8         9  ...       39      40       41  \\\n",
       "0  0.010787  0.010831  0.011108  0.002458  ... -0.71593  1.6617  12.1770   \n",
       "1  0.025578  0.025605  0.025490  0.025175  ... -0.61186  2.1574   6.7002   \n",
       "2  0.006317  0.006315  0.006321 -0.035309  ... -0.48252  6.0859  16.2140   \n",
       "3  0.008755  0.008768  0.008907 -0.041292  ... -0.69714  0.6127   5.6592   \n",
       "4  0.021416  0.021409  0.021399 -0.018570  ... -0.48441  4.3420  12.3630   \n",
       "\n",
       "       42      43      44      45      46      47  48  \n",
       "0 -1.5040 -1.5041 -1.5044 -1.4984 -1.4985 -1.4984   5  \n",
       "1 -1.4944 -1.4944 -1.4940 -1.5048 -1.5048 -1.5049   8  \n",
       "2 -1.4998 -1.4998 -1.4998 -1.4975 -1.4975 -1.4975   9  \n",
       "3 -1.5036 -1.5036 -1.5033 -1.4945 -1.4945 -1.4944   9  \n",
       "4 -1.4993 -1.4993 -1.4993 -1.4978 -1.4978 -1.4978   6  \n",
       "\n",
       "[5 rows x 49 columns]"
      ]
     },
     "execution_count": 79,
     "metadata": {},
     "output_type": "execute_result"
    }
   ],
   "source": [
    "df.head()"
   ]
  },
  {
   "cell_type": "code",
   "execution_count": 62,
   "metadata": {},
   "outputs": [],
   "source": [
    "counts = []"
   ]
  },
  {
   "cell_type": "code",
   "execution_count": 5,
   "metadata": {},
   "outputs": [],
   "source": [
    "categories = list(df.columns.values)"
   ]
  },
  {
   "cell_type": "code",
   "execution_count": 6,
   "metadata": {
    "scrolled": true
   },
   "outputs": [
    {
     "data": {
      "text/plain": [
       "['0',\n",
       " '1',\n",
       " '2',\n",
       " '3',\n",
       " '4',\n",
       " '5',\n",
       " '6',\n",
       " '7',\n",
       " '8',\n",
       " '9',\n",
       " '10',\n",
       " '11',\n",
       " '12',\n",
       " '13',\n",
       " '14',\n",
       " '15',\n",
       " '16',\n",
       " '17',\n",
       " '18',\n",
       " '19',\n",
       " '20',\n",
       " '21',\n",
       " '22',\n",
       " '23',\n",
       " '24',\n",
       " '25',\n",
       " '26',\n",
       " '27',\n",
       " '28',\n",
       " '29',\n",
       " '30',\n",
       " '31',\n",
       " '32',\n",
       " '33',\n",
       " '34',\n",
       " '35',\n",
       " '36',\n",
       " '37',\n",
       " '38',\n",
       " '39',\n",
       " '40',\n",
       " '41',\n",
       " '42',\n",
       " '43',\n",
       " '44',\n",
       " '45',\n",
       " '46',\n",
       " '47',\n",
       " '48']"
      ]
     },
     "execution_count": 6,
     "metadata": {},
     "output_type": "execute_result"
    }
   ],
   "source": [
    "categories"
   ]
  },
  {
   "cell_type": "code",
   "execution_count": 7,
   "metadata": {},
   "outputs": [],
   "source": [
    "for i in categories:\n",
    "    counts.append((i,df[i].sum()))"
   ]
  },
  {
   "cell_type": "code",
   "execution_count": 8,
   "metadata": {},
   "outputs": [],
   "source": [
    "df_stats = pd.DataFrame(counts, columns=['category','total'])"
   ]
  },
  {
   "cell_type": "code",
   "execution_count": 9,
   "metadata": {
    "collapsed": true
   },
   "outputs": [
    {
     "data": {
      "text/html": [
       "<div>\n",
       "<style scoped>\n",
       "    .dataframe tbody tr th:only-of-type {\n",
       "        vertical-align: middle;\n",
       "    }\n",
       "\n",
       "    .dataframe tbody tr th {\n",
       "        vertical-align: top;\n",
       "    }\n",
       "\n",
       "    .dataframe thead th {\n",
       "        text-align: right;\n",
       "    }\n",
       "</style>\n",
       "<table border=\"1\" class=\"dataframe\">\n",
       "  <thead>\n",
       "    <tr style=\"text-align: right;\">\n",
       "      <th></th>\n",
       "      <th>category</th>\n",
       "      <th>total</th>\n",
       "    </tr>\n",
       "  </thead>\n",
       "  <tbody>\n",
       "    <tr>\n",
       "      <td>0</td>\n",
       "      <td>0</td>\n",
       "      <td>-0.126719</td>\n",
       "    </tr>\n",
       "    <tr>\n",
       "      <td>1</td>\n",
       "      <td>1</td>\n",
       "      <td>0.069002</td>\n",
       "    </tr>\n",
       "    <tr>\n",
       "      <td>2</td>\n",
       "      <td>2</td>\n",
       "      <td>0.063057</td>\n",
       "    </tr>\n",
       "    <tr>\n",
       "      <td>3</td>\n",
       "      <td>3</td>\n",
       "      <td>-0.047535</td>\n",
       "    </tr>\n",
       "    <tr>\n",
       "      <td>4</td>\n",
       "      <td>4</td>\n",
       "      <td>0.063533</td>\n",
       "    </tr>\n",
       "    <tr>\n",
       "      <td>5</td>\n",
       "      <td>5</td>\n",
       "      <td>-0.012584</td>\n",
       "    </tr>\n",
       "    <tr>\n",
       "      <td>6</td>\n",
       "      <td>6</td>\n",
       "      <td>77.939747</td>\n",
       "    </tr>\n",
       "    <tr>\n",
       "      <td>7</td>\n",
       "      <td>7</td>\n",
       "      <td>77.870706</td>\n",
       "    </tr>\n",
       "    <tr>\n",
       "      <td>8</td>\n",
       "      <td>8</td>\n",
       "      <td>77.807638</td>\n",
       "    </tr>\n",
       "    <tr>\n",
       "      <td>9</td>\n",
       "      <td>9</td>\n",
       "      <td>-490.570916</td>\n",
       "    </tr>\n",
       "    <tr>\n",
       "      <td>10</td>\n",
       "      <td>10</td>\n",
       "      <td>-490.634243</td>\n",
       "    </tr>\n",
       "    <tr>\n",
       "      <td>11</td>\n",
       "      <td>11</td>\n",
       "      <td>-490.622041</td>\n",
       "    </tr>\n",
       "    <tr>\n",
       "      <td>12</td>\n",
       "      <td>12</td>\n",
       "      <td>76.580397</td>\n",
       "    </tr>\n",
       "    <tr>\n",
       "      <td>13</td>\n",
       "      <td>13</td>\n",
       "      <td>44.165540</td>\n",
       "    </tr>\n",
       "    <tr>\n",
       "      <td>14</td>\n",
       "      <td>14</td>\n",
       "      <td>126.011028</td>\n",
       "    </tr>\n",
       "    <tr>\n",
       "      <td>15</td>\n",
       "      <td>15</td>\n",
       "      <td>76.191187</td>\n",
       "    </tr>\n",
       "    <tr>\n",
       "      <td>16</td>\n",
       "      <td>16</td>\n",
       "      <td>43.894329</td>\n",
       "    </tr>\n",
       "    <tr>\n",
       "      <td>17</td>\n",
       "      <td>17</td>\n",
       "      <td>125.581333</td>\n",
       "    </tr>\n",
       "    <tr>\n",
       "      <td>18</td>\n",
       "      <td>18</td>\n",
       "      <td>66259.740760</td>\n",
       "    </tr>\n",
       "    <tr>\n",
       "      <td>19</td>\n",
       "      <td>19</td>\n",
       "      <td>66257.253250</td>\n",
       "    </tr>\n",
       "    <tr>\n",
       "      <td>20</td>\n",
       "      <td>20</td>\n",
       "      <td>66238.103930</td>\n",
       "    </tr>\n",
       "    <tr>\n",
       "      <td>21</td>\n",
       "      <td>21</td>\n",
       "      <td>66237.547220</td>\n",
       "    </tr>\n",
       "    <tr>\n",
       "      <td>22</td>\n",
       "      <td>22</td>\n",
       "      <td>66235.209700</td>\n",
       "    </tr>\n",
       "    <tr>\n",
       "      <td>23</td>\n",
       "      <td>23</td>\n",
       "      <td>66216.097890</td>\n",
       "    </tr>\n",
       "    <tr>\n",
       "      <td>24</td>\n",
       "      <td>24</td>\n",
       "      <td>74.722064</td>\n",
       "    </tr>\n",
       "    <tr>\n",
       "      <td>25</td>\n",
       "      <td>25</td>\n",
       "      <td>367.196338</td>\n",
       "    </tr>\n",
       "    <tr>\n",
       "      <td>26</td>\n",
       "      <td>26</td>\n",
       "      <td>-165.951063</td>\n",
       "    </tr>\n",
       "    <tr>\n",
       "      <td>27</td>\n",
       "      <td>27</td>\n",
       "      <td>-32.618702</td>\n",
       "    </tr>\n",
       "    <tr>\n",
       "      <td>28</td>\n",
       "      <td>28</td>\n",
       "      <td>532.246367</td>\n",
       "    </tr>\n",
       "    <tr>\n",
       "      <td>29</td>\n",
       "      <td>29</td>\n",
       "      <td>-514.204509</td>\n",
       "    </tr>\n",
       "    <tr>\n",
       "      <td>30</td>\n",
       "      <td>30</td>\n",
       "      <td>-0.992194</td>\n",
       "    </tr>\n",
       "    <tr>\n",
       "      <td>31</td>\n",
       "      <td>31</td>\n",
       "      <td>-1.077811</td>\n",
       "    </tr>\n",
       "    <tr>\n",
       "      <td>32</td>\n",
       "      <td>32</td>\n",
       "      <td>-0.867517</td>\n",
       "    </tr>\n",
       "    <tr>\n",
       "      <td>33</td>\n",
       "      <td>33</td>\n",
       "      <td>-0.259489</td>\n",
       "    </tr>\n",
       "    <tr>\n",
       "      <td>34</td>\n",
       "      <td>34</td>\n",
       "      <td>-0.371109</td>\n",
       "    </tr>\n",
       "    <tr>\n",
       "      <td>35</td>\n",
       "      <td>35</td>\n",
       "      <td>-0.110806</td>\n",
       "    </tr>\n",
       "    <tr>\n",
       "      <td>36</td>\n",
       "      <td>36</td>\n",
       "      <td>-23907.340750</td>\n",
       "    </tr>\n",
       "    <tr>\n",
       "      <td>37</td>\n",
       "      <td>37</td>\n",
       "      <td>304744.981404</td>\n",
       "    </tr>\n",
       "    <tr>\n",
       "      <td>38</td>\n",
       "      <td>38</td>\n",
       "      <td>345348.508770</td>\n",
       "    </tr>\n",
       "    <tr>\n",
       "      <td>39</td>\n",
       "      <td>39</td>\n",
       "      <td>-24307.615925</td>\n",
       "    </tr>\n",
       "    <tr>\n",
       "      <td>40</td>\n",
       "      <td>40</td>\n",
       "      <td>297272.678626</td>\n",
       "    </tr>\n",
       "    <tr>\n",
       "      <td>41</td>\n",
       "      <td>41</td>\n",
       "      <td>338015.083940</td>\n",
       "    </tr>\n",
       "    <tr>\n",
       "      <td>42</td>\n",
       "      <td>42</td>\n",
       "      <td>-61470.212100</td>\n",
       "    </tr>\n",
       "    <tr>\n",
       "      <td>43</td>\n",
       "      <td>43</td>\n",
       "      <td>-61471.204800</td>\n",
       "    </tr>\n",
       "    <tr>\n",
       "      <td>44</td>\n",
       "      <td>44</td>\n",
       "      <td>-61466.811500</td>\n",
       "    </tr>\n",
       "    <tr>\n",
       "      <td>45</td>\n",
       "      <td>45</td>\n",
       "      <td>-61342.824000</td>\n",
       "    </tr>\n",
       "    <tr>\n",
       "      <td>46</td>\n",
       "      <td>46</td>\n",
       "      <td>-61343.728700</td>\n",
       "    </tr>\n",
       "    <tr>\n",
       "      <td>47</td>\n",
       "      <td>47</td>\n",
       "      <td>-61339.320200</td>\n",
       "    </tr>\n",
       "    <tr>\n",
       "      <td>48</td>\n",
       "      <td>48</td>\n",
       "      <td>245736.000000</td>\n",
       "    </tr>\n",
       "  </tbody>\n",
       "</table>\n",
       "</div>"
      ],
      "text/plain": [
       "   category          total\n",
       "0         0      -0.126719\n",
       "1         1       0.069002\n",
       "2         2       0.063057\n",
       "3         3      -0.047535\n",
       "4         4       0.063533\n",
       "5         5      -0.012584\n",
       "6         6      77.939747\n",
       "7         7      77.870706\n",
       "8         8      77.807638\n",
       "9         9    -490.570916\n",
       "10       10    -490.634243\n",
       "11       11    -490.622041\n",
       "12       12      76.580397\n",
       "13       13      44.165540\n",
       "14       14     126.011028\n",
       "15       15      76.191187\n",
       "16       16      43.894329\n",
       "17       17     125.581333\n",
       "18       18   66259.740760\n",
       "19       19   66257.253250\n",
       "20       20   66238.103930\n",
       "21       21   66237.547220\n",
       "22       22   66235.209700\n",
       "23       23   66216.097890\n",
       "24       24      74.722064\n",
       "25       25     367.196338\n",
       "26       26    -165.951063\n",
       "27       27     -32.618702\n",
       "28       28     532.246367\n",
       "29       29    -514.204509\n",
       "30       30      -0.992194\n",
       "31       31      -1.077811\n",
       "32       32      -0.867517\n",
       "33       33      -0.259489\n",
       "34       34      -0.371109\n",
       "35       35      -0.110806\n",
       "36       36  -23907.340750\n",
       "37       37  304744.981404\n",
       "38       38  345348.508770\n",
       "39       39  -24307.615925\n",
       "40       40  297272.678626\n",
       "41       41  338015.083940\n",
       "42       42  -61470.212100\n",
       "43       43  -61471.204800\n",
       "44       44  -61466.811500\n",
       "45       45  -61342.824000\n",
       "46       46  -61343.728700\n",
       "47       47  -61339.320200\n",
       "48       48  245736.000000"
      ]
     },
     "execution_count": 9,
     "metadata": {},
     "output_type": "execute_result"
    }
   ],
   "source": [
    "df_stats"
   ]
  },
  {
   "cell_type": "code",
   "execution_count": 10,
   "metadata": {},
   "outputs": [
    {
     "data": {
      "text/plain": [
       "<matplotlib.axes._subplots.AxesSubplot at 0x2751730f548>"
      ]
     },
     "execution_count": 10,
     "metadata": {},
     "output_type": "execute_result"
    },
    {
     "data": {
      "image/png": "[encoded data removed]",
      "text/plain": [
       "<Figure size 576x360 with 1 Axes>"
      ]
     },
     "metadata": {
      "needs_background": "light"
     },
     "output_type": "display_data"
    }
   ],
   "source": [
    "df_stats.plot(x='category', y='total', kind='bar', legend=False, grid=True, figsize=(8, 5))"
   ]
  },
  {
   "cell_type": "code",
   "execution_count": 80,
   "metadata": {},
   "outputs": [],
   "source": [
    "y = df['48']"
   ]
  },
  {
   "cell_type": "code",
   "execution_count": 82,
   "metadata": {},
   "outputs": [
    {
     "data": {
      "text/plain": [
       "(40956,)"
      ]
     },
     "execution_count": 82,
     "metadata": {},
     "output_type": "execute_result"
    }
   ],
   "source": [
    "y.shape"
   ]
  },
  {
   "cell_type": "code",
   "execution_count": 59,
   "metadata": {},
   "outputs": [],
   "source": [
    "X = df.iloc[:,0:48]"
   ]
  },
  {
   "cell_type": "code",
   "execution_count": 83,
   "metadata": {},
   "outputs": [
    {
     "data": {
      "text/plain": [
       "(40956, 48)"
      ]
     },
     "execution_count": 83,
     "metadata": {},
     "output_type": "execute_result"
    }
   ],
   "source": [
    "X.shape"
   ]
  },
  {
   "cell_type": "code",
   "execution_count": null,
   "metadata": {},
   "outputs": [],
   "source": []
  },
  {
   "cell_type": "markdown",
   "metadata": {},
   "source": [
    "# Making Train and Test data"
   ]
  },
  {
   "cell_type": "code",
   "execution_count": 86,
   "metadata": {},
   "outputs": [],
   "source": [
    "x_train, x_test, y_train, y_test = train_test_split(df, y, test_size=0.3)"
   ]
  },
  {
   "cell_type": "code",
   "execution_count": 87,
   "metadata": {},
   "outputs": [
    {
     "data": {
      "text/plain": [
       "(12287,)"
      ]
     },
     "execution_count": 87,
     "metadata": {},
     "output_type": "execute_result"
    }
   ],
   "source": [
    "y_test.shape"
   ]
  },
  {
   "cell_type": "markdown",
   "metadata": {},
   "source": [
    "# Scaling the data"
   ]
  },
  {
   "cell_type": "code",
   "execution_count": 88,
   "metadata": {},
   "outputs": [],
   "source": [
    "from sklearn.preprocessing import StandardScaler"
   ]
  },
  {
   "cell_type": "code",
   "execution_count": 89,
   "metadata": {},
   "outputs": [],
   "source": [
    "sc= StandardScaler()\n",
    "x_train = sc.fit_transform(x_train)\n",
    "x_test = sc.transform(x_test)"
   ]
  },
  {
   "cell_type": "markdown",
   "metadata": {},
   "source": [
    "# fitting an SVM Model"
   ]
  },
  {
   "cell_type": "code",
   "execution_count": 90,
   "metadata": {},
   "outputs": [],
   "source": [
    "from sklearn.svm import SVC"
   ]
  },
  {
   "cell_type": "code",
   "execution_count": 91,
   "metadata": {},
   "outputs": [
    {
     "data": {
      "text/plain": [
       "SVC(C=1, cache_size=200, class_weight=None, coef0=0.0,\n",
       "    decision_function_shape='ovr', degree=3, gamma=1, kernel='linear',\n",
       "    max_iter=-1, probability=False, random_state=None, shrinking=True,\n",
       "    tol=0.001, verbose=False)"
      ]
     },
     "execution_count": 91,
     "metadata": {},
     "output_type": "execute_result"
    }
   ],
   "source": [
    "classifier=SVC(kernel ='linear', C=1, gamma=1)\n",
    "classifier.fit(x_train, y_train)"
   ]
  },
  {
   "cell_type": "code",
   "execution_count": 92,
   "metadata": {},
   "outputs": [],
   "source": [
    "y_pred= classifier.predict(x_test)"
   ]
  },
  {
   "cell_type": "markdown",
   "metadata": {},
   "source": [
    "# Calculating the accuracy score"
   ]
  },
  {
   "cell_type": "code",
   "execution_count": 93,
   "metadata": {},
   "outputs": [
    {
     "name": "stdout",
     "output_type": "stream",
     "text": [
      "0.9990233580206722\n"
     ]
    }
   ],
   "source": [
    "from sklearn.metrics import accuracy_score\n",
    "print(accuracy_score(y_test, y_pred))\n"
   ]
  },
  {
   "cell_type": "markdown",
   "metadata": {},
   "source": [
    "# Confusion Matrix"
   ]
  },
  {
   "cell_type": "code",
   "execution_count": 94,
   "metadata": {},
   "outputs": [
    {
     "name": "stdout",
     "output_type": "stream",
     "text": [
      "[[1117    0    0    0    0    0    0    0    0    0    0]\n",
      " [   0 1106    1    0    1    0    0    0    0    0    0]\n",
      " [   0    0 1109    0    0    0    0    0    0    0    0]\n",
      " [   0    0    0 1111    1    0    0    0    0    0    0]\n",
      " [   0    0    0    0 1101    1    0    0    0    0    0]\n",
      " [   0    0    0    0    0 1136    0    0    0    0    0]\n",
      " [   0    0    0    0    0    0 1143    0    0    0    0]\n",
      " [   0    0    0    0    0    0    1 1098    0    0    0]\n",
      " [   0    0    0    0    0    0    0    0 1107    5    0]\n",
      " [   0    1    0    0    0    0    0    0    1 1104    0]\n",
      " [   0    0    0    0    0    0    0    0    0    0 1143]]\n"
     ]
    }
   ],
   "source": [
    "from sklearn.metrics import confusion_matrix\n",
    "\n",
    "cm = confusion_matrix(y_test, y_pred)\n",
    "\n",
    "print(cm)"
   ]
  },
  {
   "cell_type": "code",
   "execution_count": 95,
   "metadata": {},
   "outputs": [
    {
     "data": {
      "text/plain": [
       "array([[ 2.51408005e-01, -5.79750023e-01,  7.39960569e-01, ...,\n",
       "        -1.23386637e-01, -1.25466617e-01, -1.57992729e+00],\n",
       "       [ 6.43990518e-02,  6.13855244e-02, -2.58884283e-02, ...,\n",
       "         8.17058663e-01,  7.13597293e-01, -1.57992729e+00],\n",
       "       [ 3.26287049e-01, -7.82501202e-02,  8.90514848e+00, ...,\n",
       "         6.32995618e-03,  3.62013852e-03, -1.57992729e+00],\n",
       "       ...,\n",
       "       [-4.99574380e-02, -9.78083033e-01, -1.74376290e-01, ...,\n",
       "         4.27908884e-01,  3.58608716e-01,  1.58314895e+00],\n",
       "       [-8.50626676e-02,  1.86716012e+00, -9.31895499e-02, ...,\n",
       "         2.00904846e-01,  1.64978583e-01,  1.58314895e+00],\n",
       "       [-1.34764120e-01,  1.14268051e-01, -1.24200079e+00, ...,\n",
       "         2.53580352e+00,  2.52081187e+00,  1.58314895e+00]])"
      ]
     },
     "execution_count": 95,
     "metadata": {},
     "output_type": "execute_result"
    }
   ],
   "source": [
    "classifier.support_vectors_"
   ]
  },
  {
   "cell_type": "code",
   "execution_count": 104,
   "metadata": {},
   "outputs": [],
   "source": [
    "from sklearn.model_selection import cross_validate\n",
    "from sklearn.model_selection import cross_val_score\n",
    "from sklearn import metrics"
   ]
  },
  {
   "cell_type": "code",
   "execution_count": 108,
   "metadata": {},
   "outputs": [
    {
     "data": {
      "text/plain": [
       "array([0.86833435, 0.85845027, 0.86589384, 0.86063271, 0.86571359])"
      ]
     },
     "execution_count": 108,
     "metadata": {},
     "output_type": "execute_result"
    }
   ],
   "source": [
    "# Perform 6-fold cross validation\n",
    "scores = cross_val_score(classifier, X, y, cv=5)\n",
    "scores"
   ]
  },
  {
   "cell_type": "code",
   "execution_count": null,
   "metadata": {},
   "outputs": [],
   "source": []
  },
  {
   "cell_type": "code",
   "execution_count": null,
   "metadata": {},
   "outputs": [],
   "source": []
  },
  {
   "cell_type": "markdown",
   "metadata": {},
   "source": [
    "# KNN "
   ]
  },
  {
   "cell_type": "code",
   "execution_count": 11,
   "metadata": {},
   "outputs": [
    {
     "data": {
      "text/plain": [
       "count    40956.00000\n",
       "mean         6.00000\n",
       "std          3.16227\n",
       "min          1.00000\n",
       "25%          3.00000\n",
       "50%          6.00000\n",
       "75%          9.00000\n",
       "max         11.00000\n",
       "Name: 48, dtype: float64"
      ]
     },
     "execution_count": 11,
     "metadata": {},
     "output_type": "execute_result"
    }
   ],
   "source": [
    "y = df['48']\n",
    "y.describe()"
   ]
  },
  {
   "cell_type": "code",
   "execution_count": 12,
   "metadata": {},
   "outputs": [
    {
     "data": {
      "text/html": [
       "<div>\n",
       "<style scoped>\n",
       "    .dataframe tbody tr th:only-of-type {\n",
       "        vertical-align: middle;\n",
       "    }\n",
       "\n",
       "    .dataframe tbody tr th {\n",
       "        vertical-align: top;\n",
       "    }\n",
       "\n",
       "    .dataframe thead th {\n",
       "        text-align: right;\n",
       "    }\n",
       "</style>\n",
       "<table border=\"1\" class=\"dataframe\">\n",
       "  <thead>\n",
       "    <tr style=\"text-align: right;\">\n",
       "      <th></th>\n",
       "      <th>0</th>\n",
       "      <th>1</th>\n",
       "      <th>2</th>\n",
       "      <th>3</th>\n",
       "      <th>4</th>\n",
       "      <th>5</th>\n",
       "      <th>6</th>\n",
       "      <th>7</th>\n",
       "      <th>8</th>\n",
       "      <th>9</th>\n",
       "      <th>...</th>\n",
       "      <th>38</th>\n",
       "      <th>39</th>\n",
       "      <th>40</th>\n",
       "      <th>41</th>\n",
       "      <th>42</th>\n",
       "      <th>43</th>\n",
       "      <th>44</th>\n",
       "      <th>45</th>\n",
       "      <th>46</th>\n",
       "      <th>47</th>\n",
       "    </tr>\n",
       "  </thead>\n",
       "  <tbody>\n",
       "    <tr>\n",
       "      <td>count</td>\n",
       "      <td>40956.000000</td>\n",
       "      <td>4.095600e+04</td>\n",
       "      <td>4.095600e+04</td>\n",
       "      <td>40956.000000</td>\n",
       "      <td>4.095600e+04</td>\n",
       "      <td>4.095600e+04</td>\n",
       "      <td>40956.000000</td>\n",
       "      <td>40956.000000</td>\n",
       "      <td>40956.000000</td>\n",
       "      <td>40956.000000</td>\n",
       "      <td>...</td>\n",
       "      <td>40956.000000</td>\n",
       "      <td>40956.000000</td>\n",
       "      <td>40956.000000</td>\n",
       "      <td>40956.000000</td>\n",
       "      <td>40956.000000</td>\n",
       "      <td>40956.000000</td>\n",
       "      <td>40956.000000</td>\n",
       "      <td>40956.000000</td>\n",
       "      <td>40956.000000</td>\n",
       "      <td>40956.000000</td>\n",
       "    </tr>\n",
       "    <tr>\n",
       "      <td>mean</td>\n",
       "      <td>-0.000003</td>\n",
       "      <td>1.684784e-06</td>\n",
       "      <td>1.539634e-06</td>\n",
       "      <td>-0.000001</td>\n",
       "      <td>1.551250e-06</td>\n",
       "      <td>-3.072557e-07</td>\n",
       "      <td>0.001903</td>\n",
       "      <td>0.001901</td>\n",
       "      <td>0.001900</td>\n",
       "      <td>-0.011978</td>\n",
       "      <td>...</td>\n",
       "      <td>8.432184</td>\n",
       "      <td>-0.593506</td>\n",
       "      <td>7.258343</td>\n",
       "      <td>8.253127</td>\n",
       "      <td>-1.500884</td>\n",
       "      <td>-1.500908</td>\n",
       "      <td>-1.500801</td>\n",
       "      <td>-1.497774</td>\n",
       "      <td>-1.497796</td>\n",
       "      <td>-1.497688</td>\n",
       "    </tr>\n",
       "    <tr>\n",
       "      <td>std</td>\n",
       "      <td>0.000052</td>\n",
       "      <td>5.370637e-05</td>\n",
       "      <td>2.269554e-04</td>\n",
       "      <td>0.000039</td>\n",
       "      <td>4.123210e-05</td>\n",
       "      <td>2.232578e-04</td>\n",
       "      <td>0.036471</td>\n",
       "      <td>0.036469</td>\n",
       "      <td>0.036474</td>\n",
       "      <td>0.066559</td>\n",
       "      <td>...</td>\n",
       "      <td>6.820285</td>\n",
       "      <td>6.087017</td>\n",
       "      <td>11.810857</td>\n",
       "      <td>6.456862</td>\n",
       "      <td>0.003660</td>\n",
       "      <td>0.003668</td>\n",
       "      <td>0.003629</td>\n",
       "      <td>0.003080</td>\n",
       "      <td>0.003079</td>\n",
       "      <td>0.003091</td>\n",
       "    </tr>\n",
       "    <tr>\n",
       "      <td>min</td>\n",
       "      <td>-0.008548</td>\n",
       "      <td>-5.414400e-03</td>\n",
       "      <td>-6.055700e-03</td>\n",
       "      <td>-0.007577</td>\n",
       "      <td>-2.144900e-03</td>\n",
       "      <td>-9.525100e-03</td>\n",
       "      <td>-0.131110</td>\n",
       "      <td>-0.131080</td>\n",
       "      <td>-0.130860</td>\n",
       "      <td>-0.218640</td>\n",
       "      <td>...</td>\n",
       "      <td>0.522180</td>\n",
       "      <td>-0.891000</td>\n",
       "      <td>-0.596830</td>\n",
       "      <td>0.513630</td>\n",
       "      <td>-1.525500</td>\n",
       "      <td>-1.526200</td>\n",
       "      <td>-1.523700</td>\n",
       "      <td>-1.521400</td>\n",
       "      <td>-1.523200</td>\n",
       "      <td>-1.521300</td>\n",
       "    </tr>\n",
       "    <tr>\n",
       "      <td>25%</td>\n",
       "      <td>-0.000007</td>\n",
       "      <td>-1.431950e-05</td>\n",
       "      <td>-7.172800e-05</td>\n",
       "      <td>-0.000005</td>\n",
       "      <td>-1.457350e-05</td>\n",
       "      <td>-7.294200e-05</td>\n",
       "      <td>-0.019970</td>\n",
       "      <td>-0.019983</td>\n",
       "      <td>-0.019960</td>\n",
       "      <td>-0.032111</td>\n",
       "      <td>...</td>\n",
       "      <td>4.462375</td>\n",
       "      <td>-0.715682</td>\n",
       "      <td>1.464500</td>\n",
       "      <td>4.446575</td>\n",
       "      <td>-1.503300</td>\n",
       "      <td>-1.503400</td>\n",
       "      <td>-1.503200</td>\n",
       "      <td>-1.499600</td>\n",
       "      <td>-1.499600</td>\n",
       "      <td>-1.499500</td>\n",
       "    </tr>\n",
       "    <tr>\n",
       "      <td>50%</td>\n",
       "      <td>-0.000003</td>\n",
       "      <td>8.599600e-07</td>\n",
       "      <td>5.411700e-07</td>\n",
       "      <td>-0.000001</td>\n",
       "      <td>7.762550e-07</td>\n",
       "      <td>9.330600e-08</td>\n",
       "      <td>0.013195</td>\n",
       "      <td>0.013202</td>\n",
       "      <td>0.013212</td>\n",
       "      <td>-0.015635</td>\n",
       "      <td>...</td>\n",
       "      <td>6.590350</td>\n",
       "      <td>-0.661935</td>\n",
       "      <td>3.319900</td>\n",
       "      <td>6.466500</td>\n",
       "      <td>-1.500300</td>\n",
       "      <td>-1.500300</td>\n",
       "      <td>-1.500300</td>\n",
       "      <td>-1.498100</td>\n",
       "      <td>-1.498100</td>\n",
       "      <td>-1.498000</td>\n",
       "    </tr>\n",
       "    <tr>\n",
       "      <td>75%</td>\n",
       "      <td>0.000002</td>\n",
       "      <td>1.870625e-05</td>\n",
       "      <td>7.492125e-05</td>\n",
       "      <td>0.000004</td>\n",
       "      <td>1.884600e-05</td>\n",
       "      <td>7.122225e-05</td>\n",
       "      <td>0.024710</td>\n",
       "      <td>0.024715</td>\n",
       "      <td>0.024740</td>\n",
       "      <td>0.020655</td>\n",
       "      <td>...</td>\n",
       "      <td>9.994925</td>\n",
       "      <td>-0.573615</td>\n",
       "      <td>8.278650</td>\n",
       "      <td>9.862200</td>\n",
       "      <td>-1.498200</td>\n",
       "      <td>-1.498200</td>\n",
       "      <td>-1.498200</td>\n",
       "      <td>-1.496200</td>\n",
       "      <td>-1.496300</td>\n",
       "      <td>-1.496200</td>\n",
       "    </tr>\n",
       "    <tr>\n",
       "      <td>max</td>\n",
       "      <td>0.005784</td>\n",
       "      <td>4.525300e-03</td>\n",
       "      <td>3.330400e-03</td>\n",
       "      <td>0.001453</td>\n",
       "      <td>8.245100e-04</td>\n",
       "      <td>2.641400e-03</td>\n",
       "      <td>0.068515</td>\n",
       "      <td>0.068515</td>\n",
       "      <td>0.068509</td>\n",
       "      <td>0.124680</td>\n",
       "      <td>...</td>\n",
       "      <td>125.490000</td>\n",
       "      <td>1161.700000</td>\n",
       "      <td>174.010000</td>\n",
       "      <td>106.140000</td>\n",
       "      <td>-1.458500</td>\n",
       "      <td>-1.465600</td>\n",
       "      <td>-1.469900</td>\n",
       "      <td>-1.448900</td>\n",
       "      <td>-1.451500</td>\n",
       "      <td>-1.447100</td>\n",
       "    </tr>\n",
       "  </tbody>\n",
       "</table>\n",
       "<p>8 rows × 48 columns</p>\n",
       "</div>"
      ],
      "text/plain": [
       "                  0             1             2             3             4  \\\n",
       "count  40956.000000  4.095600e+04  4.095600e+04  40956.000000  4.095600e+04   \n",
       "mean      -0.000003  1.684784e-06  1.539634e-06     -0.000001  1.551250e-06   \n",
       "std        0.000052  5.370637e-05  2.269554e-04      0.000039  4.123210e-05   \n",
       "min       -0.008548 -5.414400e-03 -6.055700e-03     -0.007577 -2.144900e-03   \n",
       "25%       -0.000007 -1.431950e-05 -7.172800e-05     -0.000005 -1.457350e-05   \n",
       "50%       -0.000003  8.599600e-07  5.411700e-07     -0.000001  7.762550e-07   \n",
       "75%        0.000002  1.870625e-05  7.492125e-05      0.000004  1.884600e-05   \n",
       "max        0.005784  4.525300e-03  3.330400e-03      0.001453  8.245100e-04   \n",
       "\n",
       "                  5             6             7             8             9  \\\n",
       "count  4.095600e+04  40956.000000  40956.000000  40956.000000  40956.000000   \n",
       "mean  -3.072557e-07      0.001903      0.001901      0.001900     -0.011978   \n",
       "std    2.232578e-04      0.036471      0.036469      0.036474      0.066559   \n",
       "min   -9.525100e-03     -0.131110     -0.131080     -0.130860     -0.218640   \n",
       "25%   -7.294200e-05     -0.019970     -0.019983     -0.019960     -0.032111   \n",
       "50%    9.330600e-08      0.013195      0.013202      0.013212     -0.015635   \n",
       "75%    7.122225e-05      0.024710      0.024715      0.024740      0.020655   \n",
       "max    2.641400e-03      0.068515      0.068515      0.068509      0.124680   \n",
       "\n",
       "       ...            38            39            40            41  \\\n",
       "count  ...  40956.000000  40956.000000  40956.000000  40956.000000   \n",
       "mean   ...      8.432184     -0.593506      7.258343      8.253127   \n",
       "std    ...      6.820285      6.087017     11.810857      6.456862   \n",
       "min    ...      0.522180     -0.891000     -0.596830      0.513630   \n",
       "25%    ...      4.462375     -0.715682      1.464500      4.446575   \n",
       "50%    ...      6.590350     -0.661935      3.319900      6.466500   \n",
       "75%    ...      9.994925     -0.573615      8.278650      9.862200   \n",
       "max    ...    125.490000   1161.700000    174.010000    106.140000   \n",
       "\n",
       "                 42            43            44            45            46  \\\n",
       "count  40956.000000  40956.000000  40956.000000  40956.000000  40956.000000   \n",
       "mean      -1.500884     -1.500908     -1.500801     -1.497774     -1.497796   \n",
       "std        0.003660      0.003668      0.003629      0.003080      0.003079   \n",
       "min       -1.525500     -1.526200     -1.523700     -1.521400     -1.523200   \n",
       "25%       -1.503300     -1.503400     -1.503200     -1.499600     -1.499600   \n",
       "50%       -1.500300     -1.500300     -1.500300     -1.498100     -1.498100   \n",
       "75%       -1.498200     -1.498200     -1.498200     -1.496200     -1.496300   \n",
       "max       -1.458500     -1.465600     -1.469900     -1.448900     -1.451500   \n",
       "\n",
       "                 47  \n",
       "count  40956.000000  \n",
       "mean      -1.497688  \n",
       "std        0.003091  \n",
       "min       -1.521300  \n",
       "25%       -1.499500  \n",
       "50%       -1.498000  \n",
       "75%       -1.496200  \n",
       "max       -1.447100  \n",
       "\n",
       "[8 rows x 48 columns]"
      ]
     },
     "execution_count": 12,
     "metadata": {},
     "output_type": "execute_result"
    }
   ],
   "source": [
    "X = df.iloc[:,0:48]\n",
    "X.describe()"
   ]
  },
  {
   "cell_type": "markdown",
   "metadata": {},
   "source": [
    "# Normalizing the data b/w 0 & 1"
   ]
  },
  {
   "cell_type": "code",
   "execution_count": 85,
   "metadata": {},
   "outputs": [
    {
     "name": "stdout",
     "output_type": "stream",
     "text": [
      "Normalizer(copy=True, norm='l2')\n"
     ]
    },
    {
     "data": {
      "text/plain": [
       "array([[-2.12538891e-07, -3.11248891e-06, -1.95727587e-05, ...,\n",
       "        -1.05662997e-01, -1.05670049e-01, -1.05662997e-01],\n",
       "       [-4.66382044e-07, -2.79940351e-06,  1.18810278e-05, ...,\n",
       "        -1.54833035e-01, -1.54833035e-01, -1.54843325e-01],\n",
       "       [-4.96737064e-08,  7.89977036e-08, -3.29453280e-07, ...,\n",
       "        -7.73600976e-02, -7.73600976e-02, -7.73600976e-02],\n",
       "       ...,\n",
       "       [-1.41232924e-07, -6.24011931e-07, -1.07713295e-05, ...,\n",
       "        -3.84088158e-02, -3.84088158e-02, -3.84088158e-02],\n",
       "       [-6.73483120e-08,  1.46808868e-08, -2.71705710e-07, ...,\n",
       "        -2.55976188e-02, -2.55959109e-02, -2.55976188e-02],\n",
       "       [-5.62781189e-07, -5.95964021e-06,  9.54322357e-06, ...,\n",
       "        -1.34988049e-01, -1.34997076e-01, -1.34988049e-01]])"
      ]
     },
     "execution_count": 85,
     "metadata": {},
     "output_type": "execute_result"
    }
   ],
   "source": [
    "from sklearn.preprocessing import Normalizer\n",
    "transformer = Normalizer().fit(X)\n",
    "print(transformer)\n",
    "transformer.transform(X)"
   ]
  },
  {
   "cell_type": "code",
   "execution_count": 13,
   "metadata": {},
   "outputs": [],
   "source": [
    "X_train, X_test,Y_train, Y_test = train_test_split(X, y, test_size=0.3)"
   ]
  },
  {
   "cell_type": "code",
   "execution_count": 92,
   "metadata": {},
   "outputs": [
    {
     "data": {
      "text/plain": [
       "9793      3\n",
       "39777     2\n",
       "32636     7\n",
       "38263     8\n",
       "7693      7\n",
       "         ..\n",
       "13659     3\n",
       "20148     7\n",
       "24540    11\n",
       "5139     11\n",
       "23070     3\n",
       "Name: 48, Length: 4096, dtype: int64"
      ]
     },
     "execution_count": 92,
     "metadata": {},
     "output_type": "execute_result"
    }
   ],
   "source": [
    "Y_test"
   ]
  },
  {
   "cell_type": "markdown",
   "metadata": {},
   "source": [
    "# Fitting the KNN Model"
   ]
  },
  {
   "cell_type": "code",
   "execution_count": 89,
   "metadata": {},
   "outputs": [
    {
     "data": {
      "text/plain": [
       "NearestNeighbors(algorithm='ball_tree', leaf_size=30, metric='minkowski',\n",
       "                 metric_params=None, n_jobs=None, n_neighbors=5, p=2,\n",
       "                 radius=1.0)"
      ]
     },
     "execution_count": 89,
     "metadata": {},
     "output_type": "execute_result"
    }
   ],
   "source": [
    "from sklearn.neighbors import NearestNeighbors\n",
    "model = NearestNeighbors(n_neighbors=5, algorithm='ball_tree', p=2)\n",
    "model.fit(X_train, Y_train)"
   ]
  },
  {
   "cell_type": "code",
   "execution_count": 1,
   "metadata": {},
   "outputs": [
    {
     "ename": "NameError",
     "evalue": "name 'model' is not defined",
     "output_type": "error",
     "traceback": [
      "\u001b[1;31m---------------------------------------------------------------------------\u001b[0m",
      "\u001b[1;31mNameError\u001b[0m                                 Traceback (most recent call last)",
      "\u001b[1;32m<ipython-input-1-eee9624e769a>\u001b[0m in \u001b[0;36m<module>\u001b[1;34m\u001b[0m\n\u001b[1;32m----> 1\u001b[1;33m \u001b[0my\u001b[0m \u001b[1;33m=\u001b[0m \u001b[0mmodel\u001b[0m\u001b[1;33m.\u001b[0m\u001b[0mkneighbors\u001b[0m\u001b[1;33m(\u001b[0m\u001b[0mX_test\u001b[0m\u001b[1;33m)\u001b[0m\u001b[1;33m\u001b[0m\u001b[1;33m\u001b[0m\u001b[0m\n\u001b[0m\u001b[0;32m      2\u001b[0m \u001b[0mindex\u001b[0m \u001b[1;33m=\u001b[0m \u001b[0my\u001b[0m\u001b[1;33m[\u001b[0m\u001b[1;36m1\u001b[0m\u001b[1;33m]\u001b[0m\u001b[1;33m\u001b[0m\u001b[1;33m\u001b[0m\u001b[0m\n\u001b[0;32m      3\u001b[0m \u001b[0mdist\u001b[0m \u001b[1;33m=\u001b[0m \u001b[0my\u001b[0m\u001b[1;33m[\u001b[0m\u001b[1;36m0\u001b[0m\u001b[1;33m]\u001b[0m\u001b[1;33m\u001b[0m\u001b[1;33m\u001b[0m\u001b[0m\n\u001b[0;32m      4\u001b[0m \u001b[0my_pred\u001b[0m \u001b[1;33m=\u001b[0m \u001b[1;33m[\u001b[0m\u001b[1;33m]\u001b[0m\u001b[1;33m\u001b[0m\u001b[1;33m\u001b[0m\u001b[0m\n\u001b[0;32m      5\u001b[0m \u001b[1;32mfor\u001b[0m \u001b[0mi\u001b[0m \u001b[1;32min\u001b[0m \u001b[0mindex\u001b[0m\u001b[1;33m:\u001b[0m\u001b[1;33m\u001b[0m\u001b[1;33m\u001b[0m\u001b[0m\n",
      "\u001b[1;31mNameError\u001b[0m: name 'model' is not defined"
     ]
    }
   ],
   "source": [
    "y = model.kneighbors(X_test)\n",
    "index = y[1]\n",
    "dist = y[0]\n",
    "y_pred = []\n",
    "for i in index:\n",
    "    rows = Y_train.iloc[i]\n",
    "    y_pred.append(rows.mode().iloc[0])\n",
    "\n",
    "return y_pred\n"
   ]
  },
  {
   "cell_type": "code",
   "execution_count": 91,
   "metadata": {},
   "outputs": [
    {
     "name": "stdout",
     "output_type": "stream",
     "text": [
      "0.117919921875\n",
      "[[104  54  34  32  27  29  14  22  23  17  17]\n",
      " [ 82  65  45  28  40  25  12  14  22  23  16]\n",
      " [ 84  66  49  29  30  21  22  17  31  25  10]\n",
      " [ 62  51  43  47  26  24  22  29  24  19  18]\n",
      " [ 76  62  41  41  30  19  15  21  26  20  17]\n",
      " [ 84  62  45  32  24  33  25  18  14  17   9]\n",
      " [ 88  69  54  31  28  23  29  22  17  22  18]\n",
      " [ 92  41  34  50  31  18   8  30  28  15  14]\n",
      " [ 66  65  40  43  31  16  14  30  29  19  15]\n",
      " [ 81  56  34  23  31  32  23  24  22  28  18]\n",
      " [ 72  59  41  25  23  30  16  23  26  15  39]]\n",
      "0.11322926009627049\n"
     ]
    }
   ],
   "source": [
    "from sklearn.metrics import accuracy_score\n",
    "from sklearn import metrics\n",
    "print(accuracy_score(Y_test, y_pred))\n",
    "\n",
    "from sklearn.metrics import confusion_matrix\n",
    "\n",
    "cm = confusion_matrix(Y_test, y_pred)\n",
    "\n",
    "print(cm)\n",
    "\n",
    "print(metrics.f1_score(Y_test, y_pred, average='weighted'))"
   ]
  },
  {
   "cell_type": "code",
   "execution_count": null,
   "metadata": {},
   "outputs": [],
   "source": []
  },
  {
   "cell_type": "code",
   "execution_count": 70,
   "metadata": {},
   "outputs": [],
   "source": [
    "from sklearn.manifold import TSNE"
   ]
  },
  {
   "cell_type": "code",
   "execution_count": 71,
   "metadata": {},
   "outputs": [
    {
     "data": {
      "text/plain": [
       "(40956, 2)"
      ]
     },
     "execution_count": 71,
     "metadata": {},
     "output_type": "execute_result"
    }
   ],
   "source": [
    "X_embedded = TSNE(n_components=2).fit_transform(X)\n",
    "X_embedded.shape"
   ]
  },
  {
   "cell_type": "code",
   "execution_count": null,
   "metadata": {},
   "outputs": [],
   "source": []
  },
  {
   "cell_type": "code",
   "execution_count": 72,
   "metadata": {},
   "outputs": [
    {
     "name": "stdout",
     "output_type": "stream",
     "text": [
      "[t-SNE] Computing 121 nearest neighbors...\n",
      "[t-SNE] Indexed 40956 samples in 0.250s...\n",
      "[t-SNE] Computed neighbors for 40956 samples in 40.059s...\n",
      "[t-SNE] Computed conditional probabilities for sample 1000 / 40956\n",
      "[t-SNE] Computed conditional probabilities for sample 2000 / 40956\n",
      "[t-SNE] Computed conditional probabilities for sample 3000 / 40956\n",
      "[t-SNE] Computed conditional probabilities for sample 4000 / 40956\n",
      "[t-SNE] Computed conditional probabilities for sample 5000 / 40956\n",
      "[t-SNE] Computed conditional probabilities for sample 6000 / 40956\n",
      "[t-SNE] Computed conditional probabilities for sample 7000 / 40956\n",
      "[t-SNE] Computed conditional probabilities for sample 8000 / 40956\n",
      "[t-SNE] Computed conditional probabilities for sample 9000 / 40956\n",
      "[t-SNE] Computed conditional probabilities for sample 10000 / 40956\n",
      "[t-SNE] Computed conditional probabilities for sample 11000 / 40956\n",
      "[t-SNE] Computed conditional probabilities for sample 12000 / 40956\n",
      "[t-SNE] Computed conditional probabilities for sample 13000 / 40956\n",
      "[t-SNE] Computed conditional probabilities for sample 14000 / 40956\n",
      "[t-SNE] Computed conditional probabilities for sample 15000 / 40956\n",
      "[t-SNE] Computed conditional probabilities for sample 16000 / 40956\n",
      "[t-SNE] Computed conditional probabilities for sample 17000 / 40956\n",
      "[t-SNE] Computed conditional probabilities for sample 18000 / 40956\n",
      "[t-SNE] Computed conditional probabilities for sample 19000 / 40956\n",
      "[t-SNE] Computed conditional probabilities for sample 20000 / 40956\n",
      "[t-SNE] Computed conditional probabilities for sample 21000 / 40956\n",
      "[t-SNE] Computed conditional probabilities for sample 22000 / 40956\n",
      "[t-SNE] Computed conditional probabilities for sample 23000 / 40956\n",
      "[t-SNE] Computed conditional probabilities for sample 24000 / 40956\n",
      "[t-SNE] Computed conditional probabilities for sample 25000 / 40956\n",
      "[t-SNE] Computed conditional probabilities for sample 26000 / 40956\n",
      "[t-SNE] Computed conditional probabilities for sample 27000 / 40956\n",
      "[t-SNE] Computed conditional probabilities for sample 28000 / 40956\n",
      "[t-SNE] Computed conditional probabilities for sample 29000 / 40956\n",
      "[t-SNE] Computed conditional probabilities for sample 30000 / 40956\n",
      "[t-SNE] Computed conditional probabilities for sample 31000 / 40956\n",
      "[t-SNE] Computed conditional probabilities for sample 32000 / 40956\n",
      "[t-SNE] Computed conditional probabilities for sample 33000 / 40956\n",
      "[t-SNE] Computed conditional probabilities for sample 34000 / 40956\n",
      "[t-SNE] Computed conditional probabilities for sample 35000 / 40956\n",
      "[t-SNE] Computed conditional probabilities for sample 36000 / 40956\n",
      "[t-SNE] Computed conditional probabilities for sample 37000 / 40956\n",
      "[t-SNE] Computed conditional probabilities for sample 38000 / 40956\n",
      "[t-SNE] Computed conditional probabilities for sample 39000 / 40956\n",
      "[t-SNE] Computed conditional probabilities for sample 40000 / 40956\n",
      "[t-SNE] Computed conditional probabilities for sample 40956 / 40956\n",
      "[t-SNE] Mean sigma: 0.965652\n",
      "[t-SNE] KL divergence after 250 iterations with early exaggeration: 93.665161\n",
      "[t-SNE] KL divergence after 300 iterations: 4.512991\n"
     ]
    }
   ],
   "source": [
    "tsne = TSNE(n_components=2, verbose=1, perplexity=40, n_iter=300)\n",
    "tsne_results = tsne.fit_transform(X)"
   ]
  },
  {
   "cell_type": "code",
   "execution_count": null,
   "metadata": {},
   "outputs": [],
   "source": [
    "df_subset['tsne-2d-one'] = tsne_results[:,0]\n",
    "df_subset['tsne-2d-two'] = tsne_results[:,1]\n",
    "plt.figure(figsize=(16,10))\n",
    "sns.scatterplot(\n",
    "    x=\"tsne-2d-one\", y=\"tsne-2d-two\",\n",
    "    hue=\"y\",\n",
    "    palette=sns.color_palette(\"hls\", 10),\n",
    "    data=df_subset,\n",
    "    legend=\"full\",\n",
    "    alpha=0.3\n",
    ")"
   ]
  },
  {
   "cell_type": "code",
   "execution_count": 73,
   "metadata": {},
   "outputs": [],
   "source": [
    "from sklearn.tree import DecisionTreeClassifier"
   ]
  },
  {
   "cell_type": "code",
   "execution_count": 67,
   "metadata": {},
   "outputs": [
    {
     "data": {
      "text/plain": [
       "DecisionTreeClassifier(class_weight=None, criterion='gini', max_depth=None,\n",
       "                       max_features=None, max_leaf_nodes=1000,\n",
       "                       min_impurity_decrease=0.0, min_impurity_split=None,\n",
       "                       min_samples_leaf=1, min_samples_split=2,\n",
       "                       min_weight_fraction_leaf=0.0, presort=False,\n",
       "                       random_state=0, splitter='best')"
      ]
     },
     "execution_count": 67,
     "metadata": {},
     "output_type": "execute_result"
    }
   ],
   "source": [
    "# clf = RandomForestClassifier(max_depth=5, random_state=0)\n",
    "estimator = DecisionTreeClassifier(max_leaf_nodes=1000, random_state=0)\n",
    "estimator.fit(X_train, Y_train)"
   ]
  },
  {
   "cell_type": "code",
   "execution_count": 68,
   "metadata": {},
   "outputs": [],
   "source": [
    "Y_pred = estimator.predict(X_test)"
   ]
  },
  {
   "cell_type": "code",
   "execution_count": 69,
   "metadata": {},
   "outputs": [
    {
     "name": "stdout",
     "output_type": "stream",
     "text": [
      "0.9796532920973386\n"
     ]
    }
   ],
   "source": [
    "print(accuracy_score(Y_test, Y_pred))"
   ]
  },
  {
   "cell_type": "code",
   "execution_count": null,
   "metadata": {},
   "outputs": [],
   "source": []
  },
  {
   "cell_type": "code",
   "execution_count": null,
   "metadata": {},
   "outputs": [],
   "source": []
  },
  {
   "cell_type": "code",
   "execution_count": null,
   "metadata": {},
   "outputs": [],
   "source": []
  },
  {
   "cell_type": "code",
   "execution_count": 53,
   "metadata": {},
   "outputs": [
    {
     "data": {
      "text/plain": [
       "<matplotlib.collections.PathCollection at 0x19551a04988>"
      ]
     },
     "execution_count": 53,
     "metadata": {},
     "output_type": "execute_result"
    },
    {
     "data": {
      "image/png": "[encoded data removed]",
      "text/plain": [
       "<Figure size 432x288 with 1 Axes>"
      ]
     },
     "metadata": {
      "needs_background": "light"
     },
     "output_type": "display_data"
    }
   ],
   "source": [
    "plt.scatter(X.iloc[:, 0], X.iloc[:, 1], c=y, s=50, cmap='autumn')\n",
    "plt.scatter(classifier.support_vectors_[:,0],classifier.support_vectors_[:,1])"
   ]
  },
  {
   "cell_type": "code",
   "execution_count": null,
   "metadata": {},
   "outputs": [],
   "source": []
  },
  {
   "cell_type": "code",
   "execution_count": 133,
   "metadata": {},
   "outputs": [],
   "source": [
    "df_1 = df[df['48'] > 8]['48']\n",
    "df_2 = df[df['48'] <= 8]['48']"
   ]
  },
  {
   "cell_type": "code",
   "execution_count": 153,
   "metadata": {},
   "outputs": [
    {
     "name": "stdout",
     "output_type": "stream",
     "text": [
      "Int64Index([    2,     3,     7,     9,    13,    25,    26,    35,    36,\n",
      "               41,\n",
      "            ...\n",
      "            40921, 40923, 40931, 40936, 40939, 40945, 40949, 40950, 40954,\n",
      "            40955],\n",
      "           dtype='int64', length=11170)\n"
     ]
    }
   ],
   "source": [
    "l1 = df_1.index\n",
    "l2 = df_2.index\n",
    "print(l1)"
   ]
  },
  {
   "cell_type": "code",
   "execution_count": 154,
   "metadata": {},
   "outputs": [
    {
     "data": {
      "text/plain": [
       "<matplotlib.collections.PathCollection at 0x1b336478a48>"
      ]
     },
     "execution_count": 154,
     "metadata": {},
     "output_type": "execute_result"
    },
    {
     "data": {
      "image/png": "[encoded data removed]",
      "text/plain": [
       "<Figure size 432x288 with 1 Axes>"
      ]
     },
     "metadata": {
      "needs_background": "light"
     },
     "output_type": "display_data"
    }
   ],
   "source": [
    "plt.scatter(df_1.index[0:10],df_1[0:10],color ='blue', marker='x')\n",
    "plt.scatter(df_2.index[0:10],df_2[0:10],color ='green', marker='o')"
   ]
  },
  {
   "cell_type": "code",
   "execution_count": 181,
   "metadata": {},
   "outputs": [
    {
     "data": {
      "text/plain": [
       "count    40956.00000\n",
       "mean         6.00000\n",
       "std          3.16227\n",
       "min          1.00000\n",
       "25%          3.00000\n",
       "50%          6.00000\n",
       "75%          9.00000\n",
       "max         11.00000\n",
       "Name: 48, dtype: float64"
      ]
     },
     "execution_count": 181,
     "metadata": {},
     "output_type": "execute_result"
    }
   ],
   "source": [
    "df['48'].describe()"
   ]
  },
  {
   "cell_type": "code",
   "execution_count": 229,
   "metadata": {},
   "outputs": [
    {
     "data": {
      "text/plain": [
       "2394      6\n",
       "8084      3\n",
       "14607     7\n",
       "153       1\n",
       "16609     3\n",
       "         ..\n",
       "29785     5\n",
       "27893     3\n",
       "8057      4\n",
       "37048    11\n",
       "8693     10\n",
       "Name: 48, Length: 10239, dtype: int64"
      ]
     },
     "execution_count": 229,
     "metadata": {},
     "output_type": "execute_result"
    }
   ],
   "source": [
    "df_ind1 = df.index\n",
    "df_ind2 = df['48'].sample(frac =.25)\n",
    "df_ind2\n",
    "df_ind2.index"
   ]
  },
  {
   "cell_type": "code",
   "execution_count": 211,
   "metadata": {},
   "outputs": [
    {
     "ename": "AttributeError",
     "evalue": "'RangeIndex' object has no attribute 'sample'",
     "output_type": "error",
     "traceback": [
      "\u001b[1;31m---------------------------------------------------------------------------\u001b[0m",
      "\u001b[1;31mAttributeError\u001b[0m                            Traceback (most recent call last)",
      "\u001b[1;32m<ipython-input-211-d53bec539705>\u001b[0m in \u001b[0;36m<module>\u001b[1;34m\u001b[0m\n\u001b[1;32m----> 1\u001b[1;33m \u001b[0mplt\u001b[0m\u001b[1;33m.\u001b[0m\u001b[0mplot\u001b[0m\u001b[1;33m(\u001b[0m\u001b[0mdf\u001b[0m\u001b[1;33m.\u001b[0m\u001b[0mindex\u001b[0m\u001b[1;33m.\u001b[0m\u001b[0msample\u001b[0m\u001b[1;33m(\u001b[0m\u001b[0mfrac\u001b[0m \u001b[1;33m=\u001b[0m\u001b[1;36m.25\u001b[0m\u001b[1;33m)\u001b[0m \u001b[1;33m,\u001b[0m \u001b[0mdf\u001b[0m\u001b[1;33m[\u001b[0m\u001b[1;34m'48'\u001b[0m\u001b[1;33m]\u001b[0m\u001b[1;33m.\u001b[0m\u001b[0msample\u001b[0m\u001b[1;33m(\u001b[0m\u001b[0mfrac\u001b[0m \u001b[1;33m=\u001b[0m\u001b[1;36m.25\u001b[0m\u001b[1;33m)\u001b[0m\u001b[1;33m)\u001b[0m\u001b[1;33m\u001b[0m\u001b[1;33m\u001b[0m\u001b[0m\n\u001b[0m",
      "\u001b[1;31mAttributeError\u001b[0m: 'RangeIndex' object has no attribute 'sample'"
     ]
    }
   ],
   "source": [
    "plt.plot(df.index.sample(frac =.25) , df['48'])"
   ]
  },
  {
   "cell_type": "code",
   "execution_count": 208,
   "metadata": {},
   "outputs": [
    {
     "data": {
      "text/plain": [
       "<matplotlib.collections.PathCollection at 0x1b345585d48>"
      ]
     },
     "execution_count": 208,
     "metadata": {},
     "output_type": "execute_result"
    },
    {
     "data": {
      "image/png": "[encoded data removed]",
      "text/plain": [
       "<Figure size 432x288 with 1 Axes>"
      ]
     },
     "metadata": {
      "needs_background": "light"
     },
     "output_type": "display_data"
    }
   ],
   "source": [
    "plt.scatter(df.ind[10:20],df_1[10:20],color ='blue', marker='x')\n",
    "plt.scatter(df.index[10:20],df_2[10:20],color ='green', marker='o')"
   ]
  },
  {
   "cell_type": "code",
   "execution_count": null,
   "metadata": {},
   "outputs": [],
   "source": []
  },
  {
   "cell_type": "code",
   "execution_count": null,
   "metadata": {},
   "outputs": [],
   "source": []
  },
  {
   "cell_type": "code",
   "execution_count": null,
   "metadata": {},
   "outputs": [],
   "source": []
  }
 ],
 "metadata": {
  "kernelspec": {
   "display_name": "Python 3",
   "language": "python",
   "name": "python3"
  },
  "language_info": {
   "codemirror_mode": {
    "name": "ipython",
    "version": 3
   },
   "file_extension": ".py",
   "mimetype": "text/x-python",
   "name": "python",
   "nbconvert_exporter": "python",
   "pygments_lexer": "ipython3",
   "version": "3.7.4"
  }
 },
 "nbformat": 4,
 "nbformat_minor": 2
}
